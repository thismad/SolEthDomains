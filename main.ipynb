{
 "cells": [
  {
   "cell_type": "markdown",
   "source": [
    "# ETH and Sol domains price comparaison\n",
    "On part du postulat que SOL gagne fortement et va continuer de monter en marketshare.\n",
    "Les domaines SOL sont underlooked and misspricé à mon avis. Ce tool va permettre de voir les ventes sur les ENS ETH et les comparer aux SNS pour obtenir les meilleures opportunités.\n",
    "## Test des APIS\n",
    "Il nous faut un RPC Sol pour accéder au resolver SNS.\n",
    "On utilise Alchemy."
   ],
   "metadata": {
    "collapsed": false
   }
  },
  {
   "cell_type": "code",
   "execution_count": 137,
   "outputs": [
    {
     "data": {
      "text/plain": "True"
     },
     "execution_count": 137,
     "metadata": {},
     "output_type": "execute_result"
    }
   ],
   "source": [
    "from concurrent.futures import ThreadPoolExecutor, as_completed\n",
    "import requests\n",
    "from dotenv import load_dotenv\n",
    "import pandas as pd\n",
    "from datetime import datetime\n",
    "import os\n",
    "# Define helpers to connect to Bitmex API.\n",
    "import json\n",
    "import urllib\n",
    "import hashlib\n",
    "import hmac\n",
    "import urllib.parse\n",
    "from datetime import timedelta, datetime\n",
    "from dateutil.parser import parse\n",
    "import time\n",
    "import pickle\n",
    "import numpy as np\n",
    "load_dotenv()"
   ],
   "metadata": {
    "collapsed": false
   }
  },
  {
   "cell_type": "markdown",
   "source": [
    "## ENS\n",
    "### Define ENS functions"
   ],
   "metadata": {
    "collapsed": false
   }
  },
  {
   "cell_type": "code",
   "execution_count": 61,
   "outputs": [],
   "source": [
    "def get_all_ens_sales(start_time: datetime, end_time: datetime):\n",
    "    # query params\n",
    "    params = {\n",
    "        \"startTimestamp\": start_time.timestamp(),\n",
    "        \"endTimestamp\": end_time.timestamp(),\n",
    "        \"limit\": 30,\n",
    "        \"contract\": \"0x57f1887a8BF19b14fC0dF6Fd9B2acc9Af147eA85\",\n",
    "        \"includeTokenMetadata\":True,\n",
    "        'sortBy':'price'\n",
    "    }\n",
    "    headers = {\"x-api-key\": os.getenv('RESERVOIR_API_KEY')}\n",
    "    df_ens_sales_eth = pd.DataFrame()\n",
    "\n",
    "    def loop_over_continuation(df_ens_sales_eth):\n",
    "        resp = requests.get(\"https://api.reservoir.tools/sales/v6\",params=params, headers=headers)\n",
    "        resp_json = resp.json()\n",
    "        df_ens_sales_eth = pd.concat([df_ens_sales_eth, pd.DataFrame(resp_json['sales'])])\n",
    "        sales = resp_json['sales']\n",
    "        print(sales[-1]['price']['amount']['usd'])\n",
    "        if resp_json['continuation'] and sales[-1]['price']['amount']['usd']>1000:\n",
    "            params['continuation'] = resp_json['continuation']\n",
    "            return loop_over_continuation(df_ens_sales_eth)\n",
    "        else:\n",
    "            print('Finished')\n",
    "            return df_ens_sales_eth\n",
    "    return loop_over_continuation(df_ens_sales_eth)\n",
    "\n",
    "def ens_cleaning(df):\n",
    "    df_ens_sales = df.copy()\n",
    "    df_ens_sales['price_eth']=df_ens_sales.apply(lambda x: x['price']['amount']['native'] if (x['price']['currency']['contract']=='0x0000000000000000000000000000000000000000' or x['price']['currency']['contract']=='0xc02aaa39b223fe8d0a0e5c4f27ead9083c756cc2') else None, axis=1)\n",
    "    df_ens_sales['domain']=df_ens_sales.apply(lambda x:str(x['token']['name'])[:-4], axis=1)\n",
    "    df_ens_sales['price_usd']=df_ens_sales.apply(lambda x: x['price']['amount']['usd'],axis=1)\n",
    "    # Get average of sales for each domain\n",
    "    df_ens_avg_price = df_ens_sales.groupby('domain')['price_usd'].mean().reset_index()\n",
    "    df_ens_avg_price = df_ens_avg_price.rename(columns={'price_usd': 'avg_price_usd'})\n",
    "    df_ens_count_sales = df_ens_sales.groupby('domain').count().reset_index()\n",
    "    # Rename the count column to 'nb_sales' for clarity\n",
    "    df_ens_count_sales = df_ens_count_sales.rename(columns={'price_eth': 'nb_sales'})\n",
    "    df_ens_sales = df_ens_sales.merge(df_ens_count_sales[['domain', 'nb_sales']], on='domain', how='left')\n",
    "    df_ens_sales = df_ens_sales.merge(df_ens_avg_price, on='domain', how='left')\n",
    "    df_ens_sales.drop_duplicates(subset=['domain'], inplace=True)\n",
    "    df_ens_sales=df_ens_sales[['domain', 'avg_price_usd', 'nb_sales','timestamp','txHash','fillSource','orderKind']]\n",
    "    return df_ens_sales"
   ],
   "metadata": {
    "collapsed": false
   }
  },
  {
   "cell_type": "markdown",
   "source": [
    "### Fetch ENS data"
   ],
   "metadata": {
    "collapsed": false
   }
  },
  {
   "cell_type": "code",
   "execution_count": 26,
   "outputs": [
    {
     "name": "stdout",
     "output_type": "stream",
     "text": [
      "10396.53766\n",
      "5339.43956\n",
      "5147.76738\n",
      "4901.3317\n",
      "4764.423\n",
      "4600.13255\n",
      "4296.16206\n",
      "4107.2612\n",
      "4068.92677\n",
      "3978.56702\n",
      "3833.44379\n",
      "3657.37919\n",
      "3482.9575\n",
      "3285.80896\n",
      "3099.23887\n",
      "2738.17414\n",
      "2710.79239\n",
      "2669.71978\n",
      "2628.64717\n",
      "2601.26543\n",
      "2595.47168\n",
      "2464.35672\n",
      "2354.82976\n",
      "1642.90448\n",
      "794.0705\n",
      "Finished\n"
     ]
    },
    {
     "data": {
      "text/plain": "                                                   id  \\\n0   fb07f7d7ff8cb91b024fd83999c252c0f3676f9a021596...   \n1   72df4193e972bd7af10cf8302e6b2d23aff45400970bc9...   \n2   99df7c5b18564f0c2b4238e6e9abb12550c5cff15b06f1...   \n3   a8ffb181b8167a1d8fc057183005b016141b515970fcf4...   \n4   2a8f0718945dd8adcf6a48273ed6752352ada53a67066d...   \n..                                                ...   \n25  13e6b3077a6e74f535b412ca4037cf044ba8667c631b59...   \n26  f6216c05116a272c89bc1d383015c45398b4d35b74db1b...   \n27  49b89841bd4d35010121a33da9472006859e45b06640cb...   \n28  884d11a5b48a44f35c2caa452aab7f2063d6bbb49a8353...   \n29  9a18a4f5a2ad90945c88a1ba2e88dbe872d94aea40e3f9...   \n\n                                               saleId  \\\n0   c0431f156705663a83a8fcefae58be1c706479c009e7d4...   \n1   8fe7cbdf9e80c0580df7c35d62a8b90432c43803428dd1...   \n2   65a685ed191453f5be252f6cccdb7e9f1ddab4dcbfd7e1...   \n3   7a8eaf1d6e1aeb6dcdac567224b225d9f911b3fe77ac31...   \n4   4ea22c194f1d00847246ac9457bb1a556d99acba084d8d...   \n..                                                ...   \n25  683ac89a6d6625de20526830e9b39e1156c58f67d2796f...   \n26  6a483c26c4ce43301c48f8c71c3a4781727e550e9e62a3...   \n27  04b5129bea619065cdaa148650e0f618c1531d99d9fcab...   \n28  76a6b20c56e61ebacdc355a3be5a17ddfec6be8c1e84c4...   \n29  0724361bc7e0b1e51e3494a7132e630f5a8db55b6204fc...   \n\n                                                token  \\\n0   {'contract': '0x57f1887a8bf19b14fc0df6fd9b2acc...   \n1   {'contract': '0x57f1887a8bf19b14fc0df6fd9b2acc...   \n2   {'contract': '0x57f1887a8bf19b14fc0df6fd9b2acc...   \n3   {'contract': '0x57f1887a8bf19b14fc0df6fd9b2acc...   \n4   {'contract': '0x57f1887a8bf19b14fc0df6fd9b2acc...   \n..                                                ...   \n25  {'contract': '0x57f1887a8bf19b14fc0df6fd9b2acc...   \n26  {'contract': '0x57f1887a8bf19b14fc0df6fd9b2acc...   \n27  {'contract': '0x57f1887a8bf19b14fc0df6fd9b2acc...   \n28  {'contract': '0x57f1887a8bf19b14fc0df6fd9b2acc...   \n29  {'contract': '0x57f1887a8bf19b14fc0df6fd9b2acc...   \n\n                                              orderId    orderSource  \\\n0   0xb978cb877472bea4013d66c4a8b36993cbb90379ec07...     opensea.io   \n1   0x462bfe2a1cf653dd7f83307e9004a511d2ef12d60aae...     opensea.io   \n2   0x8201db6b22109d992bdff7a21bfb1980caa844b9492d...     opensea.io   \n3   0x89ef9e74cf951c045ed0983ef8f08ae3b285ab23b0ac...     opensea.io   \n4   0x1b8129df72c6d177d59e233217f084ed03afede1ec12...  looksrare.org   \n..                                                ...            ...   \n25  0xc2d98370e593a8067a0c3570327c6980f7efeca6dac7...     opensea.io   \n26  0x8bf46f10fc79f43ee2fa915cc657cbc4f3c725e83636...     opensea.io   \n27  0x94ea05cd7aa6a8feb5ffbf708e76a3395d382a072d62...     opensea.io   \n28  0x0ce3d56e0668c44c08e8167cb7eb75ba4f75633b37c8...     opensea.io   \n29  0xe582953ab6b82e038b689de297d076866f732213f80b...     opensea.io   \n\n   orderSide    orderKind                                        from  \\\n0        ask  wyvern-v2.3  0xcf815caa0ce4dfba248ff328b9b5282a87e26a89   \n1        bid  wyvern-v2.3  0x986b3b04523c0fd690b2fcf7cd114fc2b7d9e740   \n2        ask  wyvern-v2.3  0xaa8cdc25e3d1a4c4ee007595a9ca6b77b87f4600   \n3        ask  wyvern-v2.3  0x0119f93047266e21c92aed02e42efbf9cdb5b0cf   \n4        ask   looks-rare  0xfb30cdae07272c8a37929039200201926eba6428   \n..       ...          ...                                         ...   \n25       bid  wyvern-v2.3  0x6b58007b960016b2f559dbfd809ac4dcb1febdfe   \n26       ask  wyvern-v2.3  0x64136535ee6472ebabb6531d4edfc2626f2146e1   \n27       ask  wyvern-v2.3  0xd711e8975f248216dba4730c06fc86b9aa765f92   \n28       ask  wyvern-v2.3  0x4c003b90354ef899d6618f118c80d0df4fd88c19   \n29       ask  wyvern-v2.3  0xe51b24fa0dfcd87285f369e169c2eb903071d5a4   \n\n                                            to amount  ... batchIndex  \\\n0   0x6d04403de6dd8952d683fb02f5fba591419c9556      1  ...          1   \n1   0xcfe7321fd5aca6912694ecf85d41617e0d884fdc      1  ...          1   \n2   0xdaa3a96173169a2efbf716092d7b8598b9dba27c      1  ...          1   \n3   0x1ce0750d7177a3a19eba48c32d5c86912fbb5e69      1  ...          1   \n4   0x9609e6d6cbd911befc7b883816822ba355ec9eaf      1  ...          1   \n..                                         ...    ...  ...        ...   \n25  0x328ebc7bb2ca4bf4216863042a960e3c64ed4c10      1  ...          1   \n26  0x0000000035634b55f3d99b071b5a354f48e10bef      1  ...          1   \n27  0xe41a26bf902930b5ef6998bb4e53dc0ad7fee599      1  ...          1   \n28  0xd6c4fdf4b8bcba11ccb8fb8af0f684e320af3c1e      1  ...          1   \n29  0x37fabc98f5a0327159bfdfaa42d5eceb8736f4b1      1  ...          1   \n\n     timestamp                                              price  \\\n0   1651427327  {'currency': {'contract': '0x00000000000000000...   \n1   1651364907  {'currency': {'contract': '0xc02aaa39b223fe8d0...   \n2   1651425356  {'currency': {'contract': '0x00000000000000000...   \n3   1651412564  {'currency': {'contract': '0x00000000000000000...   \n4   1651427610  {'currency': {'contract': '0x00000000000000000...   \n..         ...                                                ...   \n25  1651399075  {'currency': {'contract': '0xc02aaa39b223fe8d0...   \n26  1651425711  {'currency': {'contract': '0x00000000000000000...   \n27  1651423233  {'currency': {'contract': '0x00000000000000000...   \n28  1651422857  {'currency': {'contract': '0x00000000000000000...   \n29  1651421808  {'currency': {'contract': '0x00000000000000000...   \n\n    washTradingScore  paidFullRoyalty  feeBreakdown isDeleted  \\\n0                  0             True            []     False   \n1                  0             True            []     False   \n2                  0             True            []     False   \n3                  0             True            []     False   \n4                  0             True            []     False   \n..               ...              ...           ...       ...   \n25                 0             True            []     False   \n26                 0             True            []     False   \n27                 0             True            []     False   \n28                 0             True            []     False   \n29                 0             True            []     False   \n\n                   createdAt                 updatedAt marketplaceFeeBps  \n0   2022-05-01T17:48:47.000Z  2023-03-10T21:05:12.077Z               NaN  \n1   2022-05-01T00:28:27.000Z  2023-03-10T22:52:48.176Z               NaN  \n2   2022-05-01T17:15:56.000Z  2023-03-10T21:09:05.633Z               NaN  \n3   2022-05-01T13:42:44.000Z  2023-03-10T21:37:13.798Z               NaN  \n4   2022-05-01T17:53:30.000Z  2023-03-10T21:04:50.768Z               NaN  \n..                       ...                       ...               ...  \n25  2022-05-01T09:57:55.000Z  2023-03-10T21:57:43.967Z               NaN  \n26  2022-05-01T17:21:51.000Z  2023-03-10T21:08:42.548Z               NaN  \n27  2022-05-01T16:40:33.000Z  2023-03-10T21:12:10.162Z               NaN  \n28  2022-05-01T16:34:17.000Z  2023-03-10T21:12:41.048Z               NaN  \n29  2022-05-01T16:16:48.000Z  2023-03-10T21:15:34.267Z               NaN  \n\n[750 rows x 24 columns]",
      "text/html": "<div>\n<style scoped>\n    .dataframe tbody tr th:only-of-type {\n        vertical-align: middle;\n    }\n\n    .dataframe tbody tr th {\n        vertical-align: top;\n    }\n\n    .dataframe thead th {\n        text-align: right;\n    }\n</style>\n<table border=\"1\" class=\"dataframe\">\n  <thead>\n    <tr style=\"text-align: right;\">\n      <th></th>\n      <th>id</th>\n      <th>saleId</th>\n      <th>token</th>\n      <th>orderId</th>\n      <th>orderSource</th>\n      <th>orderSide</th>\n      <th>orderKind</th>\n      <th>from</th>\n      <th>to</th>\n      <th>amount</th>\n      <th>...</th>\n      <th>batchIndex</th>\n      <th>timestamp</th>\n      <th>price</th>\n      <th>washTradingScore</th>\n      <th>paidFullRoyalty</th>\n      <th>feeBreakdown</th>\n      <th>isDeleted</th>\n      <th>createdAt</th>\n      <th>updatedAt</th>\n      <th>marketplaceFeeBps</th>\n    </tr>\n  </thead>\n  <tbody>\n    <tr>\n      <th>0</th>\n      <td>fb07f7d7ff8cb91b024fd83999c252c0f3676f9a021596...</td>\n      <td>c0431f156705663a83a8fcefae58be1c706479c009e7d4...</td>\n      <td>{'contract': '0x57f1887a8bf19b14fc0df6fd9b2acc...</td>\n      <td>0xb978cb877472bea4013d66c4a8b36993cbb90379ec07...</td>\n      <td>opensea.io</td>\n      <td>ask</td>\n      <td>wyvern-v2.3</td>\n      <td>0xcf815caa0ce4dfba248ff328b9b5282a87e26a89</td>\n      <td>0x6d04403de6dd8952d683fb02f5fba591419c9556</td>\n      <td>1</td>\n      <td>...</td>\n      <td>1</td>\n      <td>1651427327</td>\n      <td>{'currency': {'contract': '0x00000000000000000...</td>\n      <td>0</td>\n      <td>True</td>\n      <td>[]</td>\n      <td>False</td>\n      <td>2022-05-01T17:48:47.000Z</td>\n      <td>2023-03-10T21:05:12.077Z</td>\n      <td>NaN</td>\n    </tr>\n    <tr>\n      <th>1</th>\n      <td>72df4193e972bd7af10cf8302e6b2d23aff45400970bc9...</td>\n      <td>8fe7cbdf9e80c0580df7c35d62a8b90432c43803428dd1...</td>\n      <td>{'contract': '0x57f1887a8bf19b14fc0df6fd9b2acc...</td>\n      <td>0x462bfe2a1cf653dd7f83307e9004a511d2ef12d60aae...</td>\n      <td>opensea.io</td>\n      <td>bid</td>\n      <td>wyvern-v2.3</td>\n      <td>0x986b3b04523c0fd690b2fcf7cd114fc2b7d9e740</td>\n      <td>0xcfe7321fd5aca6912694ecf85d41617e0d884fdc</td>\n      <td>1</td>\n      <td>...</td>\n      <td>1</td>\n      <td>1651364907</td>\n      <td>{'currency': {'contract': '0xc02aaa39b223fe8d0...</td>\n      <td>0</td>\n      <td>True</td>\n      <td>[]</td>\n      <td>False</td>\n      <td>2022-05-01T00:28:27.000Z</td>\n      <td>2023-03-10T22:52:48.176Z</td>\n      <td>NaN</td>\n    </tr>\n    <tr>\n      <th>2</th>\n      <td>99df7c5b18564f0c2b4238e6e9abb12550c5cff15b06f1...</td>\n      <td>65a685ed191453f5be252f6cccdb7e9f1ddab4dcbfd7e1...</td>\n      <td>{'contract': '0x57f1887a8bf19b14fc0df6fd9b2acc...</td>\n      <td>0x8201db6b22109d992bdff7a21bfb1980caa844b9492d...</td>\n      <td>opensea.io</td>\n      <td>ask</td>\n      <td>wyvern-v2.3</td>\n      <td>0xaa8cdc25e3d1a4c4ee007595a9ca6b77b87f4600</td>\n      <td>0xdaa3a96173169a2efbf716092d7b8598b9dba27c</td>\n      <td>1</td>\n      <td>...</td>\n      <td>1</td>\n      <td>1651425356</td>\n      <td>{'currency': {'contract': '0x00000000000000000...</td>\n      <td>0</td>\n      <td>True</td>\n      <td>[]</td>\n      <td>False</td>\n      <td>2022-05-01T17:15:56.000Z</td>\n      <td>2023-03-10T21:09:05.633Z</td>\n      <td>NaN</td>\n    </tr>\n    <tr>\n      <th>3</th>\n      <td>a8ffb181b8167a1d8fc057183005b016141b515970fcf4...</td>\n      <td>7a8eaf1d6e1aeb6dcdac567224b225d9f911b3fe77ac31...</td>\n      <td>{'contract': '0x57f1887a8bf19b14fc0df6fd9b2acc...</td>\n      <td>0x89ef9e74cf951c045ed0983ef8f08ae3b285ab23b0ac...</td>\n      <td>opensea.io</td>\n      <td>ask</td>\n      <td>wyvern-v2.3</td>\n      <td>0x0119f93047266e21c92aed02e42efbf9cdb5b0cf</td>\n      <td>0x1ce0750d7177a3a19eba48c32d5c86912fbb5e69</td>\n      <td>1</td>\n      <td>...</td>\n      <td>1</td>\n      <td>1651412564</td>\n      <td>{'currency': {'contract': '0x00000000000000000...</td>\n      <td>0</td>\n      <td>True</td>\n      <td>[]</td>\n      <td>False</td>\n      <td>2022-05-01T13:42:44.000Z</td>\n      <td>2023-03-10T21:37:13.798Z</td>\n      <td>NaN</td>\n    </tr>\n    <tr>\n      <th>4</th>\n      <td>2a8f0718945dd8adcf6a48273ed6752352ada53a67066d...</td>\n      <td>4ea22c194f1d00847246ac9457bb1a556d99acba084d8d...</td>\n      <td>{'contract': '0x57f1887a8bf19b14fc0df6fd9b2acc...</td>\n      <td>0x1b8129df72c6d177d59e233217f084ed03afede1ec12...</td>\n      <td>looksrare.org</td>\n      <td>ask</td>\n      <td>looks-rare</td>\n      <td>0xfb30cdae07272c8a37929039200201926eba6428</td>\n      <td>0x9609e6d6cbd911befc7b883816822ba355ec9eaf</td>\n      <td>1</td>\n      <td>...</td>\n      <td>1</td>\n      <td>1651427610</td>\n      <td>{'currency': {'contract': '0x00000000000000000...</td>\n      <td>0</td>\n      <td>True</td>\n      <td>[]</td>\n      <td>False</td>\n      <td>2022-05-01T17:53:30.000Z</td>\n      <td>2023-03-10T21:04:50.768Z</td>\n      <td>NaN</td>\n    </tr>\n    <tr>\n      <th>...</th>\n      <td>...</td>\n      <td>...</td>\n      <td>...</td>\n      <td>...</td>\n      <td>...</td>\n      <td>...</td>\n      <td>...</td>\n      <td>...</td>\n      <td>...</td>\n      <td>...</td>\n      <td>...</td>\n      <td>...</td>\n      <td>...</td>\n      <td>...</td>\n      <td>...</td>\n      <td>...</td>\n      <td>...</td>\n      <td>...</td>\n      <td>...</td>\n      <td>...</td>\n      <td>...</td>\n    </tr>\n    <tr>\n      <th>25</th>\n      <td>13e6b3077a6e74f535b412ca4037cf044ba8667c631b59...</td>\n      <td>683ac89a6d6625de20526830e9b39e1156c58f67d2796f...</td>\n      <td>{'contract': '0x57f1887a8bf19b14fc0df6fd9b2acc...</td>\n      <td>0xc2d98370e593a8067a0c3570327c6980f7efeca6dac7...</td>\n      <td>opensea.io</td>\n      <td>bid</td>\n      <td>wyvern-v2.3</td>\n      <td>0x6b58007b960016b2f559dbfd809ac4dcb1febdfe</td>\n      <td>0x328ebc7bb2ca4bf4216863042a960e3c64ed4c10</td>\n      <td>1</td>\n      <td>...</td>\n      <td>1</td>\n      <td>1651399075</td>\n      <td>{'currency': {'contract': '0xc02aaa39b223fe8d0...</td>\n      <td>0</td>\n      <td>True</td>\n      <td>[]</td>\n      <td>False</td>\n      <td>2022-05-01T09:57:55.000Z</td>\n      <td>2023-03-10T21:57:43.967Z</td>\n      <td>NaN</td>\n    </tr>\n    <tr>\n      <th>26</th>\n      <td>f6216c05116a272c89bc1d383015c45398b4d35b74db1b...</td>\n      <td>6a483c26c4ce43301c48f8c71c3a4781727e550e9e62a3...</td>\n      <td>{'contract': '0x57f1887a8bf19b14fc0df6fd9b2acc...</td>\n      <td>0x8bf46f10fc79f43ee2fa915cc657cbc4f3c725e83636...</td>\n      <td>opensea.io</td>\n      <td>ask</td>\n      <td>wyvern-v2.3</td>\n      <td>0x64136535ee6472ebabb6531d4edfc2626f2146e1</td>\n      <td>0x0000000035634b55f3d99b071b5a354f48e10bef</td>\n      <td>1</td>\n      <td>...</td>\n      <td>1</td>\n      <td>1651425711</td>\n      <td>{'currency': {'contract': '0x00000000000000000...</td>\n      <td>0</td>\n      <td>True</td>\n      <td>[]</td>\n      <td>False</td>\n      <td>2022-05-01T17:21:51.000Z</td>\n      <td>2023-03-10T21:08:42.548Z</td>\n      <td>NaN</td>\n    </tr>\n    <tr>\n      <th>27</th>\n      <td>49b89841bd4d35010121a33da9472006859e45b06640cb...</td>\n      <td>04b5129bea619065cdaa148650e0f618c1531d99d9fcab...</td>\n      <td>{'contract': '0x57f1887a8bf19b14fc0df6fd9b2acc...</td>\n      <td>0x94ea05cd7aa6a8feb5ffbf708e76a3395d382a072d62...</td>\n      <td>opensea.io</td>\n      <td>ask</td>\n      <td>wyvern-v2.3</td>\n      <td>0xd711e8975f248216dba4730c06fc86b9aa765f92</td>\n      <td>0xe41a26bf902930b5ef6998bb4e53dc0ad7fee599</td>\n      <td>1</td>\n      <td>...</td>\n      <td>1</td>\n      <td>1651423233</td>\n      <td>{'currency': {'contract': '0x00000000000000000...</td>\n      <td>0</td>\n      <td>True</td>\n      <td>[]</td>\n      <td>False</td>\n      <td>2022-05-01T16:40:33.000Z</td>\n      <td>2023-03-10T21:12:10.162Z</td>\n      <td>NaN</td>\n    </tr>\n    <tr>\n      <th>28</th>\n      <td>884d11a5b48a44f35c2caa452aab7f2063d6bbb49a8353...</td>\n      <td>76a6b20c56e61ebacdc355a3be5a17ddfec6be8c1e84c4...</td>\n      <td>{'contract': '0x57f1887a8bf19b14fc0df6fd9b2acc...</td>\n      <td>0x0ce3d56e0668c44c08e8167cb7eb75ba4f75633b37c8...</td>\n      <td>opensea.io</td>\n      <td>ask</td>\n      <td>wyvern-v2.3</td>\n      <td>0x4c003b90354ef899d6618f118c80d0df4fd88c19</td>\n      <td>0xd6c4fdf4b8bcba11ccb8fb8af0f684e320af3c1e</td>\n      <td>1</td>\n      <td>...</td>\n      <td>1</td>\n      <td>1651422857</td>\n      <td>{'currency': {'contract': '0x00000000000000000...</td>\n      <td>0</td>\n      <td>True</td>\n      <td>[]</td>\n      <td>False</td>\n      <td>2022-05-01T16:34:17.000Z</td>\n      <td>2023-03-10T21:12:41.048Z</td>\n      <td>NaN</td>\n    </tr>\n    <tr>\n      <th>29</th>\n      <td>9a18a4f5a2ad90945c88a1ba2e88dbe872d94aea40e3f9...</td>\n      <td>0724361bc7e0b1e51e3494a7132e630f5a8db55b6204fc...</td>\n      <td>{'contract': '0x57f1887a8bf19b14fc0df6fd9b2acc...</td>\n      <td>0xe582953ab6b82e038b689de297d076866f732213f80b...</td>\n      <td>opensea.io</td>\n      <td>ask</td>\n      <td>wyvern-v2.3</td>\n      <td>0xe51b24fa0dfcd87285f369e169c2eb903071d5a4</td>\n      <td>0x37fabc98f5a0327159bfdfaa42d5eceb8736f4b1</td>\n      <td>1</td>\n      <td>...</td>\n      <td>1</td>\n      <td>1651421808</td>\n      <td>{'currency': {'contract': '0x00000000000000000...</td>\n      <td>0</td>\n      <td>True</td>\n      <td>[]</td>\n      <td>False</td>\n      <td>2022-05-01T16:16:48.000Z</td>\n      <td>2023-03-10T21:15:34.267Z</td>\n      <td>NaN</td>\n    </tr>\n  </tbody>\n</table>\n<p>750 rows × 24 columns</p>\n</div>"
     },
     "execution_count": 26,
     "metadata": {},
     "output_type": "execute_result"
    }
   ],
   "source": [
    "df_ens_sales_raw=get_all_ens_sales(datetime(2022, 5, 1), datetime(2022, 5, 20))\n",
    "df_ens_sales_raw"
   ],
   "metadata": {
    "collapsed": false
   }
  },
  {
   "cell_type": "code",
   "execution_count": 35,
   "outputs": [
    {
     "data": {
      "text/plain": "     domain     price_usd\n0             3326.881575\n1      0013  10396.537660\n2      0053   5634.979760\n3      0069   5476.348270\n4      0126   3450.099410\n..      ...           ...\n691   x4n4x    821.452240\n692   yeezy   4131.269050\n693  美高梅.et   1039.196130\n694  📬📬📬.et   1369.087070\n695  🚚🚚🚚.et   1369.087070\n\n[696 rows x 2 columns]",
      "text/html": "<div>\n<style scoped>\n    .dataframe tbody tr th:only-of-type {\n        vertical-align: middle;\n    }\n\n    .dataframe tbody tr th {\n        vertical-align: top;\n    }\n\n    .dataframe thead th {\n        text-align: right;\n    }\n</style>\n<table border=\"1\" class=\"dataframe\">\n  <thead>\n    <tr style=\"text-align: right;\">\n      <th></th>\n      <th>domain</th>\n      <th>price_usd</th>\n    </tr>\n  </thead>\n  <tbody>\n    <tr>\n      <th>0</th>\n      <td></td>\n      <td>3326.881575</td>\n    </tr>\n    <tr>\n      <th>1</th>\n      <td>0013</td>\n      <td>10396.537660</td>\n    </tr>\n    <tr>\n      <th>2</th>\n      <td>0053</td>\n      <td>5634.979760</td>\n    </tr>\n    <tr>\n      <th>3</th>\n      <td>0069</td>\n      <td>5476.348270</td>\n    </tr>\n    <tr>\n      <th>4</th>\n      <td>0126</td>\n      <td>3450.099410</td>\n    </tr>\n    <tr>\n      <th>...</th>\n      <td>...</td>\n      <td>...</td>\n    </tr>\n    <tr>\n      <th>691</th>\n      <td>x4n4x</td>\n      <td>821.452240</td>\n    </tr>\n    <tr>\n      <th>692</th>\n      <td>yeezy</td>\n      <td>4131.269050</td>\n    </tr>\n    <tr>\n      <th>693</th>\n      <td>美高梅.et</td>\n      <td>1039.196130</td>\n    </tr>\n    <tr>\n      <th>694</th>\n      <td>📬📬📬.et</td>\n      <td>1369.087070</td>\n    </tr>\n    <tr>\n      <th>695</th>\n      <td>🚚🚚🚚.et</td>\n      <td>1369.087070</td>\n    </tr>\n  </tbody>\n</table>\n<p>696 rows × 2 columns</p>\n</div>"
     },
     "execution_count": 35,
     "metadata": {},
     "output_type": "execute_result"
    }
   ],
   "source": [
    "df = df_ens_sales_raw.copy()\n",
    "df['price_eth']=df.apply(lambda x: x['price']['amount']['native'] if (x['price']['currency']['contract']=='0x0000000000000000000000000000000000000000' or x['price']['currency']['contract']=='0xc02aaa39b223fe8d0a0e5c4f27ead9083c756cc2') else None, axis=1)\n",
    "df['domain']=df.apply(lambda x:str(x['token']['name'])[:-4], axis=1)\n",
    "df['price_usd']=df.apply(lambda x: x['price']['amount']['usd'],axis=1)\n",
    "# Get average of sales for each domain\n",
    "df_ens_avg_price = df.groupby('domain')['price_usd'].mean().reset_index()\n",
    "df_ens_avg_price"
   ],
   "metadata": {
    "collapsed": false
   }
  },
  {
   "cell_type": "markdown",
   "source": [
    "## Clean ENS df and doing computations"
   ],
   "metadata": {
    "collapsed": false
   }
  },
  {
   "cell_type": "code",
   "execution_count": 39,
   "outputs": [
    {
     "data": {
      "text/plain": "       domain  avg_price_usd  nb_sales   timestamp  \\\n0         085    41620.24687         1  1651427327   \n1         114    41072.61204         1  1651364907   \n2         027    41072.61204         1  1651425356   \n3         135    36965.35084         1  1651412564   \n4         179    35596.26377         1  1651427610   \n..        ...            ...       ...         ...   \n745     x4n4x      821.45224         1  1651399075   \n746  rapidash      821.45224         1  1651425711   \n747    767676      821.45224         1  1651423233   \n748     06969      821.45224         1  1651422857   \n749     45054      794.07050         1  1651421808   \n\n                                                txHash     fillSource  \\\n0    0x20a76c664cc70c8b36e5bbf84f179a717ce58da4de13...     opensea.io   \n1    0xab8a69806251c2fddb24e4cc2a23fd47d10adf72105f...     opensea.io   \n2    0x11d1bc0001d6f65c4492a8732177962ac24966fe6c04...     opensea.io   \n3    0x19d2fa04df984354a6e7b0ce05d32620a7189230b5c5...     opensea.io   \n4    0xe2675d63e80ba84c924dda119326d7ddf38788d50082...  looksrare.org   \n..                                                 ...            ...   \n745  0x6e2f0db7f66d1ae3e88ffbde5e7434fb28e9567bb7c0...     opensea.io   \n746  0x70167e9a6e6d0d5899223fada1c0c49c80e583913036...        gem.xyz   \n747  0xdddbaa5e6b3ea575dc183bd3bc6486116a0823403bce...     opensea.io   \n748  0xb24ef5e26fbcfd6730802ba8286a127d241c59d82586...     opensea.io   \n749  0x55b4d75698530d9737959c63d5ea2037156421f8e096...     opensea.io   \n\n       orderKind  \n0    wyvern-v2.3  \n1    wyvern-v2.3  \n2    wyvern-v2.3  \n3    wyvern-v2.3  \n4     looks-rare  \n..           ...  \n745  wyvern-v2.3  \n746  wyvern-v2.3  \n747  wyvern-v2.3  \n748  wyvern-v2.3  \n749  wyvern-v2.3  \n\n[750 rows x 7 columns]",
      "text/html": "<div>\n<style scoped>\n    .dataframe tbody tr th:only-of-type {\n        vertical-align: middle;\n    }\n\n    .dataframe tbody tr th {\n        vertical-align: top;\n    }\n\n    .dataframe thead th {\n        text-align: right;\n    }\n</style>\n<table border=\"1\" class=\"dataframe\">\n  <thead>\n    <tr style=\"text-align: right;\">\n      <th></th>\n      <th>domain</th>\n      <th>avg_price_usd</th>\n      <th>nb_sales</th>\n      <th>timestamp</th>\n      <th>txHash</th>\n      <th>fillSource</th>\n      <th>orderKind</th>\n    </tr>\n  </thead>\n  <tbody>\n    <tr>\n      <th>0</th>\n      <td>085</td>\n      <td>41620.24687</td>\n      <td>1</td>\n      <td>1651427327</td>\n      <td>0x20a76c664cc70c8b36e5bbf84f179a717ce58da4de13...</td>\n      <td>opensea.io</td>\n      <td>wyvern-v2.3</td>\n    </tr>\n    <tr>\n      <th>1</th>\n      <td>114</td>\n      <td>41072.61204</td>\n      <td>1</td>\n      <td>1651364907</td>\n      <td>0xab8a69806251c2fddb24e4cc2a23fd47d10adf72105f...</td>\n      <td>opensea.io</td>\n      <td>wyvern-v2.3</td>\n    </tr>\n    <tr>\n      <th>2</th>\n      <td>027</td>\n      <td>41072.61204</td>\n      <td>1</td>\n      <td>1651425356</td>\n      <td>0x11d1bc0001d6f65c4492a8732177962ac24966fe6c04...</td>\n      <td>opensea.io</td>\n      <td>wyvern-v2.3</td>\n    </tr>\n    <tr>\n      <th>3</th>\n      <td>135</td>\n      <td>36965.35084</td>\n      <td>1</td>\n      <td>1651412564</td>\n      <td>0x19d2fa04df984354a6e7b0ce05d32620a7189230b5c5...</td>\n      <td>opensea.io</td>\n      <td>wyvern-v2.3</td>\n    </tr>\n    <tr>\n      <th>4</th>\n      <td>179</td>\n      <td>35596.26377</td>\n      <td>1</td>\n      <td>1651427610</td>\n      <td>0xe2675d63e80ba84c924dda119326d7ddf38788d50082...</td>\n      <td>looksrare.org</td>\n      <td>looks-rare</td>\n    </tr>\n    <tr>\n      <th>...</th>\n      <td>...</td>\n      <td>...</td>\n      <td>...</td>\n      <td>...</td>\n      <td>...</td>\n      <td>...</td>\n      <td>...</td>\n    </tr>\n    <tr>\n      <th>745</th>\n      <td>x4n4x</td>\n      <td>821.45224</td>\n      <td>1</td>\n      <td>1651399075</td>\n      <td>0x6e2f0db7f66d1ae3e88ffbde5e7434fb28e9567bb7c0...</td>\n      <td>opensea.io</td>\n      <td>wyvern-v2.3</td>\n    </tr>\n    <tr>\n      <th>746</th>\n      <td>rapidash</td>\n      <td>821.45224</td>\n      <td>1</td>\n      <td>1651425711</td>\n      <td>0x70167e9a6e6d0d5899223fada1c0c49c80e583913036...</td>\n      <td>gem.xyz</td>\n      <td>wyvern-v2.3</td>\n    </tr>\n    <tr>\n      <th>747</th>\n      <td>767676</td>\n      <td>821.45224</td>\n      <td>1</td>\n      <td>1651423233</td>\n      <td>0xdddbaa5e6b3ea575dc183bd3bc6486116a0823403bce...</td>\n      <td>opensea.io</td>\n      <td>wyvern-v2.3</td>\n    </tr>\n    <tr>\n      <th>748</th>\n      <td>06969</td>\n      <td>821.45224</td>\n      <td>1</td>\n      <td>1651422857</td>\n      <td>0xb24ef5e26fbcfd6730802ba8286a127d241c59d82586...</td>\n      <td>opensea.io</td>\n      <td>wyvern-v2.3</td>\n    </tr>\n    <tr>\n      <th>749</th>\n      <td>45054</td>\n      <td>794.07050</td>\n      <td>1</td>\n      <td>1651421808</td>\n      <td>0x55b4d75698530d9737959c63d5ea2037156421f8e096...</td>\n      <td>opensea.io</td>\n      <td>wyvern-v2.3</td>\n    </tr>\n  </tbody>\n</table>\n<p>750 rows × 7 columns</p>\n</div>"
     },
     "execution_count": 39,
     "metadata": {},
     "output_type": "execute_result"
    }
   ],
   "source": [
    "ens_cleaning(df_ens_sales_raw)"
   ],
   "metadata": {
    "collapsed": false
   }
  },
  {
   "cell_type": "markdown",
   "source": [
    "## SNS\n",
    "### Define SNS functions"
   ],
   "metadata": {
    "collapsed": false
   }
  },
  {
   "cell_type": "code",
   "execution_count": 62,
   "outputs": [],
   "source": [
    "# Get all SNS listings\n",
    "def get_all_sns_listings():\n",
    "    limit = 20\n",
    "    url = \"https://api-mainnet.magiceden.dev/v2/collections/bonfida/listings\"\n",
    "    params = {\n",
    "        \"limit\": limit,  # Unknown limit, to be tested\n",
    "        \"offset\": 0,\n",
    "    }\n",
    "    df_sns_listings = pd.DataFrame()\n",
    "\n",
    "    def loop_over_continuation(df_sns_listings):\n",
    "        start_loop = time.time()\n",
    "        resp = requests.get(url, params=params)\n",
    "        resp_json = resp.json()\n",
    "        df_sns_listings_iteration = pd.DataFrame(resp_json)\n",
    "        df_sns_listings = pd.concat([df_sns_listings, df_sns_listings_iteration])\n",
    "\n",
    "        if not df_sns_listings_iteration.empty:\n",
    "            params[\"offset\"] += limit\n",
    "            print(resp_json[-1]['price'])\n",
    "            time_taken = time.time() - start_loop\n",
    "            time.sleep(0.5 - time_taken if time_taken < 0.5 else 0)\n",
    "            return loop_over_continuation(df_sns_listings)\n",
    "        else:\n",
    "            return df_sns_listings\n",
    "\n",
    "    return loop_over_continuation(df_sns_listings)\n",
    "\n",
    "\n",
    "def sns_cleaning(df):\n",
    "    df_sns_listings = df.copy()\n",
    "    df_sns_listings['price_sol'] = df_sns_listings['price']\n",
    "    df_sns_listings['domain'] = df_sns_listings.apply(lambda x: x['token']['name'], axis=1)\n",
    "    df_bitmex_hourly_sol_prices_raw = get_sol_prices()\n",
    "    df_sns_listings['price_usd'] = df_sns_listings['price_sol'] * df_bitmex_hourly_sol_prices_raw.iloc[-1]['close']\n",
    "    df_sns_listings = df_sns_listings[['domain', 'price_sol', 'price_usd']]\n",
    "    return df_sns_listings\n",
    "\n",
    "\n",
    "def check_if_registered(domain_name: str):\n",
    "    # This is using QuickNode API and SNS add-on, if SNS is bought, it automatically resolves the domain to owner if bought.\n",
    "    # Therefore if result = None it means domain is available.\n",
    "    try:\n",
    "        resp = requests.post(\n",
    "            'https://late-small-voice.solana-mainnet.quiknode.pro/213109288e418132157c5d7b3da4f0fc4af3158f/', json={\n",
    "                \"jsonrpc\": \"2.0\",\n",
    "                \"method\": \"sns_resolveDomain\",\n",
    "                \"params\": [\n",
    "                    domain_name,\n",
    "                ],\n",
    "                \"id\": 42\n",
    "            }\n",
    "            )\n",
    "        result = resp.json()['result']\n",
    "        print('domain', domain_name, 'result', result)\n",
    "        return result != None\n",
    "    except Exception as e:\n",
    "        print('Exception', e)\n",
    "        return None\n",
    "\n",
    "\n",
    "def process_domain(domain):\n",
    "    return domain, check_if_registered(domain)\n",
    "\n",
    "\n",
    "# Get SOL historical price from mex\n",
    "api_key_id = os.getenv('BITMEX_API_ID')\n",
    "api_key_secret = os.getenv('BITMEX_API_SECRET')\n",
    "\n",
    "# Simple GET\n",
    "#\n",
    "verb = 'GET'\n",
    "# Note url-encoding on querystring - this is '/api/v1/instrument?filter={\"symbol\": \"XBTM15\"}'\n",
    "# Be sure to HMAC *exactly* what is sent on the wire\n",
    "path = 'https://www.bitmex.com/api/v1/instrument'\n",
    "expires = 1518064237  # 2018-02-08T04:30:37Z\n",
    "data = json.dumps({\"filter\": {\"symbol\": \"XBTM15\"}})\n",
    "print(data)\n",
    "\n",
    "\n",
    "def generate_signature(secret, verb, url, expires, data):\n",
    "    \"\"\"Generate a request signature compatible with BitMEX.\"\"\"\n",
    "    # Parse the url so we can remove the base and extract just the path.\n",
    "    print(data)\n",
    "    parsedURL = urllib.parse.urlparse(url)\n",
    "    path = parsedURL.path\n",
    "    if parsedURL.query:\n",
    "        path = path + '?' + parsedURL.query\n",
    "\n",
    "    if isinstance(data, (bytes, bytearray)):\n",
    "        data = data.decode('utf8')\n",
    "\n",
    "    message = bytes(verb + path + str(expires) + data, 'utf-8')\n",
    "\n",
    "    signature = hmac.new(bytes(secret, 'utf-8'), message, digestmod=hashlib.sha256).hexdigest()\n",
    "    return signature\n",
    "\n",
    "\n",
    "def generate_headers(url):\n",
    "    headers = {}\n",
    "    sig_expires = int((datetime.now() + timedelta(minutes=1)).timestamp())\n",
    "    signature = generate_signature(os.getenv('BITMEX_API_SECRET'), 'GET', url, sig_expires, '')\n",
    "    headers['api-expires'] = str(sig_expires)\n",
    "    headers['api-signature'] = signature\n",
    "    headers['api-key'] = str(os.getenv('BITMEX_API_ID'))\n",
    "    return headers\n",
    "\n",
    "\n",
    "# Extract historical data for ETHUSD from Bitmex.\n",
    "# Define the endpoint URL\n",
    "def get_sol_prices():\n",
    "    url = \"https://www.bitmex.com/api/v1/trade/bucketed\"\n",
    "    count = 1000  # Max 1000\n",
    "    cursor = 0\n",
    "    # We can take full time length here because we will merge on timestamp from nft sales (which are filtered by from_time and to_time)\n",
    "    start_time = \"2018-03-02T09:02:00\"\n",
    "    end_time = datetime.now().strftime(\"%Y-%m-%dT%H:%M:%S\")\n",
    "    # Define the parameters\n",
    "    params = {\n",
    "        \"symbol\": \"SOLUSD\",\n",
    "        \"count\": count,  # Modify this value based on your needs\n",
    "        \"start\": cursor,  # After 11000 we dont get any result.\n",
    "        \"binSize\": \"1h\",\n",
    "        \"columns\": \"close,timestamp\",\n",
    "    }\n",
    "\n",
    "    df_bitmex_hourly_sol_prices_raw = pd.DataFrame()\n",
    "\n",
    "    while True:\n",
    "        encoded_params = urllib.parse.urlencode(params)\n",
    "        full_url = url + \"?\" + encoded_params\n",
    "        headers = generate_headers(full_url)\n",
    "\n",
    "        response = requests.get(full_url, headers=headers)\n",
    "        print(headers)\n",
    "        print(params)\n",
    "        # Check the status code\n",
    "        if response.status_code == 200:\n",
    "            resp_json = response.json()\n",
    "            # If the least recent timestamp is > of our end time we stop the loop. It means we registered all the data we need and more.\n",
    "            if len(resp_json) == 0:\n",
    "                print('Finished')\n",
    "                break\n",
    "\n",
    "            # Parse the response JSON into a DataFrame.\n",
    "            df_bitmex_hourly_sol_prices_raw = pd.concat([df_bitmex_hourly_sol_prices_raw, pd.DataFrame(resp_json)])\n",
    "            print('First row', resp_json[0])\n",
    "            # Calc the remaining API calls we can make before we hit the rate limit.\n",
    "            remaining_api_calls = int(response.headers.get('x-ratelimit-remaining'))\n",
    "            print(remaining_api_calls)\n",
    "            # Increment the cursor by count.\n",
    "            cursor += count\n",
    "            # For whatever reason not detailed, cursor stops at 11000. So we need to reset the start time to get the next 11000.\n",
    "\n",
    "            params['start'] = cursor\n",
    "            print('Cursor', cursor)\n",
    "            # If we dont have any remaining_api_calls we wait the given time.\n",
    "            if remaining_api_calls == 0:\n",
    "                time_to_sleep = int(response.headers.get('x-ratelimit-reset')) - int(time.time())\n",
    "                # Time can be negative, because of the time it takes to process the data if the reset limit is very close.\n",
    "                if time_to_sleep > 0:\n",
    "                    print(f\"Request limit reached, waiting {time_to_sleep}\")\n",
    "                    time.sleep(time_to_sleep)\n",
    "        elif response.status_code == 429:\n",
    "            must_wait = int(response.headers.get('retry-after'))\n",
    "            print(f\"Request limit reached, waiting {must_wait}\")\n",
    "            time.sleep(must_wait)\n",
    "        else:\n",
    "            print(f\"Request failed with status code {response.status_code}\")\n",
    "            print(response.text)\n",
    "    return df_bitmex_hourly_sol_prices_raw"
   ],
   "metadata": {
    "collapsed": false
   }
  },
  {
   "cell_type": "markdown",
   "source": [
    "### Execute and get SNS listings"
   ],
   "metadata": {
    "collapsed": false
   }
  },
  {
   "cell_type": "code",
   "execution_count": 59,
   "outputs": [
    {
     "name": "stdout",
     "output_type": "stream",
     "text": [
      "0.2299\n",
      "0.25\n",
      "0.2999\n",
      "0.35\n"
     ]
    },
    {
     "ename": "KeyboardInterrupt",
     "evalue": "",
     "output_type": "error",
     "traceback": [
      "\u001B[0;31m---------------------------------------------------------------------------\u001B[0m",
      "\u001B[0;31mKeyboardInterrupt\u001B[0m                         Traceback (most recent call last)",
      "Cell \u001B[0;32mIn[59], line 1\u001B[0m\n\u001B[0;32m----> 1\u001B[0m df_sns_listings_raw \u001B[38;5;241m=\u001B[39m \u001B[43mget_all_sns_listings\u001B[49m\u001B[43m(\u001B[49m\u001B[43m)\u001B[49m\n\u001B[1;32m      2\u001B[0m df_sns_listings_raw\n",
      "Cell \u001B[0;32mIn[58], line 27\u001B[0m, in \u001B[0;36mget_all_sns_listings\u001B[0;34m()\u001B[0m\n\u001B[1;32m     24\u001B[0m     \u001B[38;5;28;01melse\u001B[39;00m:\n\u001B[1;32m     25\u001B[0m         \u001B[38;5;28;01mreturn\u001B[39;00m df_sns_listings\n\u001B[0;32m---> 27\u001B[0m \u001B[38;5;28;01mreturn\u001B[39;00m \u001B[43mloop_over_continuation\u001B[49m\u001B[43m(\u001B[49m\u001B[43mdf_sns_listings\u001B[49m\u001B[43m)\u001B[49m\n",
      "Cell \u001B[0;32mIn[58], line 23\u001B[0m, in \u001B[0;36mget_all_sns_listings.<locals>.loop_over_continuation\u001B[0;34m(df_sns_listings)\u001B[0m\n\u001B[1;32m     21\u001B[0m     time_taken \u001B[38;5;241m=\u001B[39m time\u001B[38;5;241m.\u001B[39mtime()\u001B[38;5;241m-\u001B[39mstart_loop\n\u001B[1;32m     22\u001B[0m     time\u001B[38;5;241m.\u001B[39msleep(\u001B[38;5;241m0.5\u001B[39m\u001B[38;5;241m-\u001B[39mtime_taken \u001B[38;5;28;01mif\u001B[39;00m time_taken\u001B[38;5;241m<\u001B[39m\u001B[38;5;241m0.5\u001B[39m \u001B[38;5;28;01melse\u001B[39;00m \u001B[38;5;241m0\u001B[39m)\n\u001B[0;32m---> 23\u001B[0m     \u001B[38;5;28;01mreturn\u001B[39;00m \u001B[43mloop_over_continuation\u001B[49m\u001B[43m(\u001B[49m\u001B[43mdf_sns_listings\u001B[49m\u001B[43m)\u001B[49m\n\u001B[1;32m     24\u001B[0m \u001B[38;5;28;01melse\u001B[39;00m:\n\u001B[1;32m     25\u001B[0m     \u001B[38;5;28;01mreturn\u001B[39;00m df_sns_listings\n",
      "Cell \u001B[0;32mIn[58], line 23\u001B[0m, in \u001B[0;36mget_all_sns_listings.<locals>.loop_over_continuation\u001B[0;34m(df_sns_listings)\u001B[0m\n\u001B[1;32m     21\u001B[0m     time_taken \u001B[38;5;241m=\u001B[39m time\u001B[38;5;241m.\u001B[39mtime()\u001B[38;5;241m-\u001B[39mstart_loop\n\u001B[1;32m     22\u001B[0m     time\u001B[38;5;241m.\u001B[39msleep(\u001B[38;5;241m0.5\u001B[39m\u001B[38;5;241m-\u001B[39mtime_taken \u001B[38;5;28;01mif\u001B[39;00m time_taken\u001B[38;5;241m<\u001B[39m\u001B[38;5;241m0.5\u001B[39m \u001B[38;5;28;01melse\u001B[39;00m \u001B[38;5;241m0\u001B[39m)\n\u001B[0;32m---> 23\u001B[0m     \u001B[38;5;28;01mreturn\u001B[39;00m \u001B[43mloop_over_continuation\u001B[49m\u001B[43m(\u001B[49m\u001B[43mdf_sns_listings\u001B[49m\u001B[43m)\u001B[49m\n\u001B[1;32m     24\u001B[0m \u001B[38;5;28;01melse\u001B[39;00m:\n\u001B[1;32m     25\u001B[0m     \u001B[38;5;28;01mreturn\u001B[39;00m df_sns_listings\n",
      "    \u001B[0;31m[... skipping similar frames: get_all_sns_listings.<locals>.loop_over_continuation at line 23 (1 times)]\u001B[0m\n",
      "Cell \u001B[0;32mIn[58], line 23\u001B[0m, in \u001B[0;36mget_all_sns_listings.<locals>.loop_over_continuation\u001B[0;34m(df_sns_listings)\u001B[0m\n\u001B[1;32m     21\u001B[0m     time_taken \u001B[38;5;241m=\u001B[39m time\u001B[38;5;241m.\u001B[39mtime()\u001B[38;5;241m-\u001B[39mstart_loop\n\u001B[1;32m     22\u001B[0m     time\u001B[38;5;241m.\u001B[39msleep(\u001B[38;5;241m0.5\u001B[39m\u001B[38;5;241m-\u001B[39mtime_taken \u001B[38;5;28;01mif\u001B[39;00m time_taken\u001B[38;5;241m<\u001B[39m\u001B[38;5;241m0.5\u001B[39m \u001B[38;5;28;01melse\u001B[39;00m \u001B[38;5;241m0\u001B[39m)\n\u001B[0;32m---> 23\u001B[0m     \u001B[38;5;28;01mreturn\u001B[39;00m \u001B[43mloop_over_continuation\u001B[49m\u001B[43m(\u001B[49m\u001B[43mdf_sns_listings\u001B[49m\u001B[43m)\u001B[49m\n\u001B[1;32m     24\u001B[0m \u001B[38;5;28;01melse\u001B[39;00m:\n\u001B[1;32m     25\u001B[0m     \u001B[38;5;28;01mreturn\u001B[39;00m df_sns_listings\n",
      "Cell \u001B[0;32mIn[58], line 13\u001B[0m, in \u001B[0;36mget_all_sns_listings.<locals>.loop_over_continuation\u001B[0;34m(df_sns_listings)\u001B[0m\n\u001B[1;32m     11\u001B[0m \u001B[38;5;28;01mdef\u001B[39;00m \u001B[38;5;21mloop_over_continuation\u001B[39m(df_sns_listings):\n\u001B[1;32m     12\u001B[0m     start_loop \u001B[38;5;241m=\u001B[39m time\u001B[38;5;241m.\u001B[39mtime()\n\u001B[0;32m---> 13\u001B[0m     resp \u001B[38;5;241m=\u001B[39m \u001B[43mrequests\u001B[49m\u001B[38;5;241;43m.\u001B[39;49m\u001B[43mget\u001B[49m\u001B[43m(\u001B[49m\u001B[43murl\u001B[49m\u001B[43m,\u001B[49m\u001B[43m \u001B[49m\u001B[43mparams\u001B[49m\u001B[38;5;241;43m=\u001B[39;49m\u001B[43mparams\u001B[49m\u001B[43m)\u001B[49m\n\u001B[1;32m     14\u001B[0m     resp_json \u001B[38;5;241m=\u001B[39m resp\u001B[38;5;241m.\u001B[39mjson()\n\u001B[1;32m     15\u001B[0m     \u001B[38;5;28mprint\u001B[39m(resp_json[\u001B[38;5;241m-\u001B[39m\u001B[38;5;241m1\u001B[39m][\u001B[38;5;124m'\u001B[39m\u001B[38;5;124mprice\u001B[39m\u001B[38;5;124m'\u001B[39m])\n",
      "File \u001B[0;32m/opt/homebrew/Caskroom/miniconda/base/envs/EthSolDomains/lib/python3.10/site-packages/requests/api.py:73\u001B[0m, in \u001B[0;36mget\u001B[0;34m(url, params, **kwargs)\u001B[0m\n\u001B[1;32m     62\u001B[0m \u001B[38;5;28;01mdef\u001B[39;00m \u001B[38;5;21mget\u001B[39m(url, params\u001B[38;5;241m=\u001B[39m\u001B[38;5;28;01mNone\u001B[39;00m, \u001B[38;5;241m*\u001B[39m\u001B[38;5;241m*\u001B[39mkwargs):\n\u001B[1;32m     63\u001B[0m \u001B[38;5;250m    \u001B[39m\u001B[38;5;124mr\u001B[39m\u001B[38;5;124;03m\"\"\"Sends a GET request.\u001B[39;00m\n\u001B[1;32m     64\u001B[0m \n\u001B[1;32m     65\u001B[0m \u001B[38;5;124;03m    :param url: URL for the new :class:`Request` object.\u001B[39;00m\n\u001B[0;32m   (...)\u001B[0m\n\u001B[1;32m     70\u001B[0m \u001B[38;5;124;03m    :rtype: requests.Response\u001B[39;00m\n\u001B[1;32m     71\u001B[0m \u001B[38;5;124;03m    \"\"\"\u001B[39;00m\n\u001B[0;32m---> 73\u001B[0m     \u001B[38;5;28;01mreturn\u001B[39;00m \u001B[43mrequest\u001B[49m\u001B[43m(\u001B[49m\u001B[38;5;124;43m\"\u001B[39;49m\u001B[38;5;124;43mget\u001B[39;49m\u001B[38;5;124;43m\"\u001B[39;49m\u001B[43m,\u001B[49m\u001B[43m \u001B[49m\u001B[43murl\u001B[49m\u001B[43m,\u001B[49m\u001B[43m \u001B[49m\u001B[43mparams\u001B[49m\u001B[38;5;241;43m=\u001B[39;49m\u001B[43mparams\u001B[49m\u001B[43m,\u001B[49m\u001B[43m \u001B[49m\u001B[38;5;241;43m*\u001B[39;49m\u001B[38;5;241;43m*\u001B[39;49m\u001B[43mkwargs\u001B[49m\u001B[43m)\u001B[49m\n",
      "File \u001B[0;32m/opt/homebrew/Caskroom/miniconda/base/envs/EthSolDomains/lib/python3.10/site-packages/requests/api.py:59\u001B[0m, in \u001B[0;36mrequest\u001B[0;34m(method, url, **kwargs)\u001B[0m\n\u001B[1;32m     55\u001B[0m \u001B[38;5;66;03m# By using the 'with' statement we are sure the session is closed, thus we\u001B[39;00m\n\u001B[1;32m     56\u001B[0m \u001B[38;5;66;03m# avoid leaving sockets open which can trigger a ResourceWarning in some\u001B[39;00m\n\u001B[1;32m     57\u001B[0m \u001B[38;5;66;03m# cases, and look like a memory leak in others.\u001B[39;00m\n\u001B[1;32m     58\u001B[0m \u001B[38;5;28;01mwith\u001B[39;00m sessions\u001B[38;5;241m.\u001B[39mSession() \u001B[38;5;28;01mas\u001B[39;00m session:\n\u001B[0;32m---> 59\u001B[0m     \u001B[38;5;28;01mreturn\u001B[39;00m \u001B[43msession\u001B[49m\u001B[38;5;241;43m.\u001B[39;49m\u001B[43mrequest\u001B[49m\u001B[43m(\u001B[49m\u001B[43mmethod\u001B[49m\u001B[38;5;241;43m=\u001B[39;49m\u001B[43mmethod\u001B[49m\u001B[43m,\u001B[49m\u001B[43m \u001B[49m\u001B[43murl\u001B[49m\u001B[38;5;241;43m=\u001B[39;49m\u001B[43murl\u001B[49m\u001B[43m,\u001B[49m\u001B[43m \u001B[49m\u001B[38;5;241;43m*\u001B[39;49m\u001B[38;5;241;43m*\u001B[39;49m\u001B[43mkwargs\u001B[49m\u001B[43m)\u001B[49m\n",
      "File \u001B[0;32m/opt/homebrew/Caskroom/miniconda/base/envs/EthSolDomains/lib/python3.10/site-packages/requests/sessions.py:589\u001B[0m, in \u001B[0;36mSession.request\u001B[0;34m(self, method, url, params, data, headers, cookies, files, auth, timeout, allow_redirects, proxies, hooks, stream, verify, cert, json)\u001B[0m\n\u001B[1;32m    584\u001B[0m send_kwargs \u001B[38;5;241m=\u001B[39m {\n\u001B[1;32m    585\u001B[0m     \u001B[38;5;124m\"\u001B[39m\u001B[38;5;124mtimeout\u001B[39m\u001B[38;5;124m\"\u001B[39m: timeout,\n\u001B[1;32m    586\u001B[0m     \u001B[38;5;124m\"\u001B[39m\u001B[38;5;124mallow_redirects\u001B[39m\u001B[38;5;124m\"\u001B[39m: allow_redirects,\n\u001B[1;32m    587\u001B[0m }\n\u001B[1;32m    588\u001B[0m send_kwargs\u001B[38;5;241m.\u001B[39mupdate(settings)\n\u001B[0;32m--> 589\u001B[0m resp \u001B[38;5;241m=\u001B[39m \u001B[38;5;28;43mself\u001B[39;49m\u001B[38;5;241;43m.\u001B[39;49m\u001B[43msend\u001B[49m\u001B[43m(\u001B[49m\u001B[43mprep\u001B[49m\u001B[43m,\u001B[49m\u001B[43m \u001B[49m\u001B[38;5;241;43m*\u001B[39;49m\u001B[38;5;241;43m*\u001B[39;49m\u001B[43msend_kwargs\u001B[49m\u001B[43m)\u001B[49m\n\u001B[1;32m    591\u001B[0m \u001B[38;5;28;01mreturn\u001B[39;00m resp\n",
      "File \u001B[0;32m/opt/homebrew/Caskroom/miniconda/base/envs/EthSolDomains/lib/python3.10/site-packages/requests/sessions.py:703\u001B[0m, in \u001B[0;36mSession.send\u001B[0;34m(self, request, **kwargs)\u001B[0m\n\u001B[1;32m    700\u001B[0m start \u001B[38;5;241m=\u001B[39m preferred_clock()\n\u001B[1;32m    702\u001B[0m \u001B[38;5;66;03m# Send the request\u001B[39;00m\n\u001B[0;32m--> 703\u001B[0m r \u001B[38;5;241m=\u001B[39m \u001B[43madapter\u001B[49m\u001B[38;5;241;43m.\u001B[39;49m\u001B[43msend\u001B[49m\u001B[43m(\u001B[49m\u001B[43mrequest\u001B[49m\u001B[43m,\u001B[49m\u001B[43m \u001B[49m\u001B[38;5;241;43m*\u001B[39;49m\u001B[38;5;241;43m*\u001B[39;49m\u001B[43mkwargs\u001B[49m\u001B[43m)\u001B[49m\n\u001B[1;32m    705\u001B[0m \u001B[38;5;66;03m# Total elapsed time of the request (approximately)\u001B[39;00m\n\u001B[1;32m    706\u001B[0m elapsed \u001B[38;5;241m=\u001B[39m preferred_clock() \u001B[38;5;241m-\u001B[39m start\n",
      "File \u001B[0;32m/opt/homebrew/Caskroom/miniconda/base/envs/EthSolDomains/lib/python3.10/site-packages/requests/adapters.py:486\u001B[0m, in \u001B[0;36mHTTPAdapter.send\u001B[0;34m(self, request, stream, timeout, verify, cert, proxies)\u001B[0m\n\u001B[1;32m    483\u001B[0m     timeout \u001B[38;5;241m=\u001B[39m TimeoutSauce(connect\u001B[38;5;241m=\u001B[39mtimeout, read\u001B[38;5;241m=\u001B[39mtimeout)\n\u001B[1;32m    485\u001B[0m \u001B[38;5;28;01mtry\u001B[39;00m:\n\u001B[0;32m--> 486\u001B[0m     resp \u001B[38;5;241m=\u001B[39m \u001B[43mconn\u001B[49m\u001B[38;5;241;43m.\u001B[39;49m\u001B[43murlopen\u001B[49m\u001B[43m(\u001B[49m\n\u001B[1;32m    487\u001B[0m \u001B[43m        \u001B[49m\u001B[43mmethod\u001B[49m\u001B[38;5;241;43m=\u001B[39;49m\u001B[43mrequest\u001B[49m\u001B[38;5;241;43m.\u001B[39;49m\u001B[43mmethod\u001B[49m\u001B[43m,\u001B[49m\n\u001B[1;32m    488\u001B[0m \u001B[43m        \u001B[49m\u001B[43murl\u001B[49m\u001B[38;5;241;43m=\u001B[39;49m\u001B[43murl\u001B[49m\u001B[43m,\u001B[49m\n\u001B[1;32m    489\u001B[0m \u001B[43m        \u001B[49m\u001B[43mbody\u001B[49m\u001B[38;5;241;43m=\u001B[39;49m\u001B[43mrequest\u001B[49m\u001B[38;5;241;43m.\u001B[39;49m\u001B[43mbody\u001B[49m\u001B[43m,\u001B[49m\n\u001B[1;32m    490\u001B[0m \u001B[43m        \u001B[49m\u001B[43mheaders\u001B[49m\u001B[38;5;241;43m=\u001B[39;49m\u001B[43mrequest\u001B[49m\u001B[38;5;241;43m.\u001B[39;49m\u001B[43mheaders\u001B[49m\u001B[43m,\u001B[49m\n\u001B[1;32m    491\u001B[0m \u001B[43m        \u001B[49m\u001B[43mredirect\u001B[49m\u001B[38;5;241;43m=\u001B[39;49m\u001B[38;5;28;43;01mFalse\u001B[39;49;00m\u001B[43m,\u001B[49m\n\u001B[1;32m    492\u001B[0m \u001B[43m        \u001B[49m\u001B[43massert_same_host\u001B[49m\u001B[38;5;241;43m=\u001B[39;49m\u001B[38;5;28;43;01mFalse\u001B[39;49;00m\u001B[43m,\u001B[49m\n\u001B[1;32m    493\u001B[0m \u001B[43m        \u001B[49m\u001B[43mpreload_content\u001B[49m\u001B[38;5;241;43m=\u001B[39;49m\u001B[38;5;28;43;01mFalse\u001B[39;49;00m\u001B[43m,\u001B[49m\n\u001B[1;32m    494\u001B[0m \u001B[43m        \u001B[49m\u001B[43mdecode_content\u001B[49m\u001B[38;5;241;43m=\u001B[39;49m\u001B[38;5;28;43;01mFalse\u001B[39;49;00m\u001B[43m,\u001B[49m\n\u001B[1;32m    495\u001B[0m \u001B[43m        \u001B[49m\u001B[43mretries\u001B[49m\u001B[38;5;241;43m=\u001B[39;49m\u001B[38;5;28;43mself\u001B[39;49m\u001B[38;5;241;43m.\u001B[39;49m\u001B[43mmax_retries\u001B[49m\u001B[43m,\u001B[49m\n\u001B[1;32m    496\u001B[0m \u001B[43m        \u001B[49m\u001B[43mtimeout\u001B[49m\u001B[38;5;241;43m=\u001B[39;49m\u001B[43mtimeout\u001B[49m\u001B[43m,\u001B[49m\n\u001B[1;32m    497\u001B[0m \u001B[43m        \u001B[49m\u001B[43mchunked\u001B[49m\u001B[38;5;241;43m=\u001B[39;49m\u001B[43mchunked\u001B[49m\u001B[43m,\u001B[49m\n\u001B[1;32m    498\u001B[0m \u001B[43m    \u001B[49m\u001B[43m)\u001B[49m\n\u001B[1;32m    500\u001B[0m \u001B[38;5;28;01mexcept\u001B[39;00m (ProtocolError, \u001B[38;5;167;01mOSError\u001B[39;00m) \u001B[38;5;28;01mas\u001B[39;00m err:\n\u001B[1;32m    501\u001B[0m     \u001B[38;5;28;01mraise\u001B[39;00m \u001B[38;5;167;01mConnectionError\u001B[39;00m(err, request\u001B[38;5;241m=\u001B[39mrequest)\n",
      "File \u001B[0;32m/opt/homebrew/Caskroom/miniconda/base/envs/EthSolDomains/lib/python3.10/site-packages/urllib3/connectionpool.py:715\u001B[0m, in \u001B[0;36mHTTPConnectionPool.urlopen\u001B[0;34m(self, method, url, body, headers, retries, redirect, assert_same_host, timeout, pool_timeout, release_conn, chunked, body_pos, **response_kw)\u001B[0m\n\u001B[1;32m    712\u001B[0m     \u001B[38;5;28mself\u001B[39m\u001B[38;5;241m.\u001B[39m_prepare_proxy(conn)\n\u001B[1;32m    714\u001B[0m \u001B[38;5;66;03m# Make the request on the httplib connection object.\u001B[39;00m\n\u001B[0;32m--> 715\u001B[0m httplib_response \u001B[38;5;241m=\u001B[39m \u001B[38;5;28;43mself\u001B[39;49m\u001B[38;5;241;43m.\u001B[39;49m\u001B[43m_make_request\u001B[49m\u001B[43m(\u001B[49m\n\u001B[1;32m    716\u001B[0m \u001B[43m    \u001B[49m\u001B[43mconn\u001B[49m\u001B[43m,\u001B[49m\n\u001B[1;32m    717\u001B[0m \u001B[43m    \u001B[49m\u001B[43mmethod\u001B[49m\u001B[43m,\u001B[49m\n\u001B[1;32m    718\u001B[0m \u001B[43m    \u001B[49m\u001B[43murl\u001B[49m\u001B[43m,\u001B[49m\n\u001B[1;32m    719\u001B[0m \u001B[43m    \u001B[49m\u001B[43mtimeout\u001B[49m\u001B[38;5;241;43m=\u001B[39;49m\u001B[43mtimeout_obj\u001B[49m\u001B[43m,\u001B[49m\n\u001B[1;32m    720\u001B[0m \u001B[43m    \u001B[49m\u001B[43mbody\u001B[49m\u001B[38;5;241;43m=\u001B[39;49m\u001B[43mbody\u001B[49m\u001B[43m,\u001B[49m\n\u001B[1;32m    721\u001B[0m \u001B[43m    \u001B[49m\u001B[43mheaders\u001B[49m\u001B[38;5;241;43m=\u001B[39;49m\u001B[43mheaders\u001B[49m\u001B[43m,\u001B[49m\n\u001B[1;32m    722\u001B[0m \u001B[43m    \u001B[49m\u001B[43mchunked\u001B[49m\u001B[38;5;241;43m=\u001B[39;49m\u001B[43mchunked\u001B[49m\u001B[43m,\u001B[49m\n\u001B[1;32m    723\u001B[0m \u001B[43m\u001B[49m\u001B[43m)\u001B[49m\n\u001B[1;32m    725\u001B[0m \u001B[38;5;66;03m# If we're going to release the connection in ``finally:``, then\u001B[39;00m\n\u001B[1;32m    726\u001B[0m \u001B[38;5;66;03m# the response doesn't need to know about the connection. Otherwise\u001B[39;00m\n\u001B[1;32m    727\u001B[0m \u001B[38;5;66;03m# it will also try to release it and we'll have a double-release\u001B[39;00m\n\u001B[1;32m    728\u001B[0m \u001B[38;5;66;03m# mess.\u001B[39;00m\n\u001B[1;32m    729\u001B[0m response_conn \u001B[38;5;241m=\u001B[39m conn \u001B[38;5;28;01mif\u001B[39;00m \u001B[38;5;129;01mnot\u001B[39;00m release_conn \u001B[38;5;28;01melse\u001B[39;00m \u001B[38;5;28;01mNone\u001B[39;00m\n",
      "File \u001B[0;32m/opt/homebrew/Caskroom/miniconda/base/envs/EthSolDomains/lib/python3.10/site-packages/urllib3/connectionpool.py:467\u001B[0m, in \u001B[0;36mHTTPConnectionPool._make_request\u001B[0;34m(self, conn, method, url, timeout, chunked, **httplib_request_kw)\u001B[0m\n\u001B[1;32m    462\u001B[0m             httplib_response \u001B[38;5;241m=\u001B[39m conn\u001B[38;5;241m.\u001B[39mgetresponse()\n\u001B[1;32m    463\u001B[0m         \u001B[38;5;28;01mexcept\u001B[39;00m \u001B[38;5;167;01mBaseException\u001B[39;00m \u001B[38;5;28;01mas\u001B[39;00m e:\n\u001B[1;32m    464\u001B[0m             \u001B[38;5;66;03m# Remove the TypeError from the exception chain in\u001B[39;00m\n\u001B[1;32m    465\u001B[0m             \u001B[38;5;66;03m# Python 3 (including for exceptions like SystemExit).\u001B[39;00m\n\u001B[1;32m    466\u001B[0m             \u001B[38;5;66;03m# Otherwise it looks like a bug in the code.\u001B[39;00m\n\u001B[0;32m--> 467\u001B[0m             \u001B[43msix\u001B[49m\u001B[38;5;241;43m.\u001B[39;49m\u001B[43mraise_from\u001B[49m\u001B[43m(\u001B[49m\u001B[43me\u001B[49m\u001B[43m,\u001B[49m\u001B[43m \u001B[49m\u001B[38;5;28;43;01mNone\u001B[39;49;00m\u001B[43m)\u001B[49m\n\u001B[1;32m    468\u001B[0m \u001B[38;5;28;01mexcept\u001B[39;00m (SocketTimeout, BaseSSLError, SocketError) \u001B[38;5;28;01mas\u001B[39;00m e:\n\u001B[1;32m    469\u001B[0m     \u001B[38;5;28mself\u001B[39m\u001B[38;5;241m.\u001B[39m_raise_timeout(err\u001B[38;5;241m=\u001B[39me, url\u001B[38;5;241m=\u001B[39murl, timeout_value\u001B[38;5;241m=\u001B[39mread_timeout)\n",
      "File \u001B[0;32m<string>:3\u001B[0m, in \u001B[0;36mraise_from\u001B[0;34m(value, from_value)\u001B[0m\n",
      "File \u001B[0;32m/opt/homebrew/Caskroom/miniconda/base/envs/EthSolDomains/lib/python3.10/site-packages/urllib3/connectionpool.py:462\u001B[0m, in \u001B[0;36mHTTPConnectionPool._make_request\u001B[0;34m(self, conn, method, url, timeout, chunked, **httplib_request_kw)\u001B[0m\n\u001B[1;32m    459\u001B[0m \u001B[38;5;28;01mexcept\u001B[39;00m \u001B[38;5;167;01mTypeError\u001B[39;00m:\n\u001B[1;32m    460\u001B[0m     \u001B[38;5;66;03m# Python 3\u001B[39;00m\n\u001B[1;32m    461\u001B[0m     \u001B[38;5;28;01mtry\u001B[39;00m:\n\u001B[0;32m--> 462\u001B[0m         httplib_response \u001B[38;5;241m=\u001B[39m \u001B[43mconn\u001B[49m\u001B[38;5;241;43m.\u001B[39;49m\u001B[43mgetresponse\u001B[49m\u001B[43m(\u001B[49m\u001B[43m)\u001B[49m\n\u001B[1;32m    463\u001B[0m     \u001B[38;5;28;01mexcept\u001B[39;00m \u001B[38;5;167;01mBaseException\u001B[39;00m \u001B[38;5;28;01mas\u001B[39;00m e:\n\u001B[1;32m    464\u001B[0m         \u001B[38;5;66;03m# Remove the TypeError from the exception chain in\u001B[39;00m\n\u001B[1;32m    465\u001B[0m         \u001B[38;5;66;03m# Python 3 (including for exceptions like SystemExit).\u001B[39;00m\n\u001B[1;32m    466\u001B[0m         \u001B[38;5;66;03m# Otherwise it looks like a bug in the code.\u001B[39;00m\n\u001B[1;32m    467\u001B[0m         six\u001B[38;5;241m.\u001B[39mraise_from(e, \u001B[38;5;28;01mNone\u001B[39;00m)\n",
      "File \u001B[0;32m/opt/homebrew/Caskroom/miniconda/base/envs/EthSolDomains/lib/python3.10/http/client.py:1375\u001B[0m, in \u001B[0;36mHTTPConnection.getresponse\u001B[0;34m(self)\u001B[0m\n\u001B[1;32m   1373\u001B[0m \u001B[38;5;28;01mtry\u001B[39;00m:\n\u001B[1;32m   1374\u001B[0m     \u001B[38;5;28;01mtry\u001B[39;00m:\n\u001B[0;32m-> 1375\u001B[0m         \u001B[43mresponse\u001B[49m\u001B[38;5;241;43m.\u001B[39;49m\u001B[43mbegin\u001B[49m\u001B[43m(\u001B[49m\u001B[43m)\u001B[49m\n\u001B[1;32m   1376\u001B[0m     \u001B[38;5;28;01mexcept\u001B[39;00m \u001B[38;5;167;01mConnectionError\u001B[39;00m:\n\u001B[1;32m   1377\u001B[0m         \u001B[38;5;28mself\u001B[39m\u001B[38;5;241m.\u001B[39mclose()\n",
      "File \u001B[0;32m/opt/homebrew/Caskroom/miniconda/base/envs/EthSolDomains/lib/python3.10/http/client.py:318\u001B[0m, in \u001B[0;36mHTTPResponse.begin\u001B[0;34m(self)\u001B[0m\n\u001B[1;32m    316\u001B[0m \u001B[38;5;66;03m# read until we get a non-100 response\u001B[39;00m\n\u001B[1;32m    317\u001B[0m \u001B[38;5;28;01mwhile\u001B[39;00m \u001B[38;5;28;01mTrue\u001B[39;00m:\n\u001B[0;32m--> 318\u001B[0m     version, status, reason \u001B[38;5;241m=\u001B[39m \u001B[38;5;28;43mself\u001B[39;49m\u001B[38;5;241;43m.\u001B[39;49m\u001B[43m_read_status\u001B[49m\u001B[43m(\u001B[49m\u001B[43m)\u001B[49m\n\u001B[1;32m    319\u001B[0m     \u001B[38;5;28;01mif\u001B[39;00m status \u001B[38;5;241m!=\u001B[39m CONTINUE:\n\u001B[1;32m    320\u001B[0m         \u001B[38;5;28;01mbreak\u001B[39;00m\n",
      "File \u001B[0;32m/opt/homebrew/Caskroom/miniconda/base/envs/EthSolDomains/lib/python3.10/http/client.py:279\u001B[0m, in \u001B[0;36mHTTPResponse._read_status\u001B[0;34m(self)\u001B[0m\n\u001B[1;32m    278\u001B[0m \u001B[38;5;28;01mdef\u001B[39;00m \u001B[38;5;21m_read_status\u001B[39m(\u001B[38;5;28mself\u001B[39m):\n\u001B[0;32m--> 279\u001B[0m     line \u001B[38;5;241m=\u001B[39m \u001B[38;5;28mstr\u001B[39m(\u001B[38;5;28;43mself\u001B[39;49m\u001B[38;5;241;43m.\u001B[39;49m\u001B[43mfp\u001B[49m\u001B[38;5;241;43m.\u001B[39;49m\u001B[43mreadline\u001B[49m\u001B[43m(\u001B[49m\u001B[43m_MAXLINE\u001B[49m\u001B[43m \u001B[49m\u001B[38;5;241;43m+\u001B[39;49m\u001B[43m \u001B[49m\u001B[38;5;241;43m1\u001B[39;49m\u001B[43m)\u001B[49m, \u001B[38;5;124m\"\u001B[39m\u001B[38;5;124miso-8859-1\u001B[39m\u001B[38;5;124m\"\u001B[39m)\n\u001B[1;32m    280\u001B[0m     \u001B[38;5;28;01mif\u001B[39;00m \u001B[38;5;28mlen\u001B[39m(line) \u001B[38;5;241m>\u001B[39m _MAXLINE:\n\u001B[1;32m    281\u001B[0m         \u001B[38;5;28;01mraise\u001B[39;00m LineTooLong(\u001B[38;5;124m\"\u001B[39m\u001B[38;5;124mstatus line\u001B[39m\u001B[38;5;124m\"\u001B[39m)\n",
      "File \u001B[0;32m/opt/homebrew/Caskroom/miniconda/base/envs/EthSolDomains/lib/python3.10/socket.py:705\u001B[0m, in \u001B[0;36mSocketIO.readinto\u001B[0;34m(self, b)\u001B[0m\n\u001B[1;32m    703\u001B[0m \u001B[38;5;28;01mwhile\u001B[39;00m \u001B[38;5;28;01mTrue\u001B[39;00m:\n\u001B[1;32m    704\u001B[0m     \u001B[38;5;28;01mtry\u001B[39;00m:\n\u001B[0;32m--> 705\u001B[0m         \u001B[38;5;28;01mreturn\u001B[39;00m \u001B[38;5;28;43mself\u001B[39;49m\u001B[38;5;241;43m.\u001B[39;49m\u001B[43m_sock\u001B[49m\u001B[38;5;241;43m.\u001B[39;49m\u001B[43mrecv_into\u001B[49m\u001B[43m(\u001B[49m\u001B[43mb\u001B[49m\u001B[43m)\u001B[49m\n\u001B[1;32m    706\u001B[0m     \u001B[38;5;28;01mexcept\u001B[39;00m timeout:\n\u001B[1;32m    707\u001B[0m         \u001B[38;5;28mself\u001B[39m\u001B[38;5;241m.\u001B[39m_timeout_occurred \u001B[38;5;241m=\u001B[39m \u001B[38;5;28;01mTrue\u001B[39;00m\n",
      "File \u001B[0;32m/opt/homebrew/Caskroom/miniconda/base/envs/EthSolDomains/lib/python3.10/ssl.py:1307\u001B[0m, in \u001B[0;36mSSLSocket.recv_into\u001B[0;34m(self, buffer, nbytes, flags)\u001B[0m\n\u001B[1;32m   1303\u001B[0m     \u001B[38;5;28;01mif\u001B[39;00m flags \u001B[38;5;241m!=\u001B[39m \u001B[38;5;241m0\u001B[39m:\n\u001B[1;32m   1304\u001B[0m         \u001B[38;5;28;01mraise\u001B[39;00m \u001B[38;5;167;01mValueError\u001B[39;00m(\n\u001B[1;32m   1305\u001B[0m           \u001B[38;5;124m\"\u001B[39m\u001B[38;5;124mnon-zero flags not allowed in calls to recv_into() on \u001B[39m\u001B[38;5;132;01m%s\u001B[39;00m\u001B[38;5;124m\"\u001B[39m \u001B[38;5;241m%\u001B[39m\n\u001B[1;32m   1306\u001B[0m           \u001B[38;5;28mself\u001B[39m\u001B[38;5;241m.\u001B[39m\u001B[38;5;18m__class__\u001B[39m)\n\u001B[0;32m-> 1307\u001B[0m     \u001B[38;5;28;01mreturn\u001B[39;00m \u001B[38;5;28;43mself\u001B[39;49m\u001B[38;5;241;43m.\u001B[39;49m\u001B[43mread\u001B[49m\u001B[43m(\u001B[49m\u001B[43mnbytes\u001B[49m\u001B[43m,\u001B[49m\u001B[43m \u001B[49m\u001B[43mbuffer\u001B[49m\u001B[43m)\u001B[49m\n\u001B[1;32m   1308\u001B[0m \u001B[38;5;28;01melse\u001B[39;00m:\n\u001B[1;32m   1309\u001B[0m     \u001B[38;5;28;01mreturn\u001B[39;00m \u001B[38;5;28msuper\u001B[39m()\u001B[38;5;241m.\u001B[39mrecv_into(buffer, nbytes, flags)\n",
      "File \u001B[0;32m/opt/homebrew/Caskroom/miniconda/base/envs/EthSolDomains/lib/python3.10/ssl.py:1163\u001B[0m, in \u001B[0;36mSSLSocket.read\u001B[0;34m(self, len, buffer)\u001B[0m\n\u001B[1;32m   1161\u001B[0m \u001B[38;5;28;01mtry\u001B[39;00m:\n\u001B[1;32m   1162\u001B[0m     \u001B[38;5;28;01mif\u001B[39;00m buffer \u001B[38;5;129;01mis\u001B[39;00m \u001B[38;5;129;01mnot\u001B[39;00m \u001B[38;5;28;01mNone\u001B[39;00m:\n\u001B[0;32m-> 1163\u001B[0m         \u001B[38;5;28;01mreturn\u001B[39;00m \u001B[38;5;28;43mself\u001B[39;49m\u001B[38;5;241;43m.\u001B[39;49m\u001B[43m_sslobj\u001B[49m\u001B[38;5;241;43m.\u001B[39;49m\u001B[43mread\u001B[49m\u001B[43m(\u001B[49m\u001B[38;5;28;43mlen\u001B[39;49m\u001B[43m,\u001B[49m\u001B[43m \u001B[49m\u001B[43mbuffer\u001B[49m\u001B[43m)\u001B[49m\n\u001B[1;32m   1164\u001B[0m     \u001B[38;5;28;01melse\u001B[39;00m:\n\u001B[1;32m   1165\u001B[0m         \u001B[38;5;28;01mreturn\u001B[39;00m \u001B[38;5;28mself\u001B[39m\u001B[38;5;241m.\u001B[39m_sslobj\u001B[38;5;241m.\u001B[39mread(\u001B[38;5;28mlen\u001B[39m)\n",
      "\u001B[0;31mKeyboardInterrupt\u001B[0m: "
     ]
    }
   ],
   "source": [
    "df_sns_listings_raw = get_all_sns_listings()\n",
    "df_sns_listings_raw"
   ],
   "metadata": {
    "collapsed": false
   }
  },
  {
   "cell_type": "markdown",
   "source": [
    "## Clean SNS df and do computations"
   ],
   "metadata": {
    "collapsed": false
   }
  },
  {
   "cell_type": "code",
   "execution_count": 14,
   "outputs": [
    {
     "name": "stdout",
     "output_type": "stream",
     "text": [
      "\n",
      "{'api-expires': '1703407773', 'api-signature': 'f2db4275c6b14f3a894f17a6d83e1ca040c0e5fd27a45edec0eb981afd33e6b9', 'api-key': 'HM_OVkhTCygs5BcVk2NY6aIi'}\n",
      "{'symbol': 'SOLUSD', 'count': 1000, 'start': 0, 'binSize': '1h', 'columns': 'close,timestamp'}\n",
      "First row {'symbol': 'SOLUSD', 'timestamp': '2021-10-20T04:00:00.000Z', 'close': None}\n",
      "119\n",
      "Cursor 1000\n",
      "\n",
      "{'api-expires': '1703407774', 'api-signature': '30c399e427b27e8d20fb0ab77ef0a55e098bf45b0dfc3fea46941aa41fa6c616', 'api-key': 'HM_OVkhTCygs5BcVk2NY6aIi'}\n",
      "{'symbol': 'SOLUSD', 'count': 1000, 'start': 1000, 'binSize': '1h', 'columns': 'close,timestamp'}\n",
      "First row {'timestamp': '2021-11-30T20:00:00.000Z', 'symbol': 'SOLUSD', 'close': 215.45}\n",
      "119\n",
      "Cursor 2000\n",
      "\n",
      "{'api-expires': '1703407775', 'api-signature': '6e88129c92b84a1caa9349bc8ef311149fd77bc2a1a38876de6b111fbff1b7b2', 'api-key': 'HM_OVkhTCygs5BcVk2NY6aIi'}\n",
      "{'symbol': 'SOLUSD', 'count': 1000, 'start': 2000, 'binSize': '1h', 'columns': 'close,timestamp'}\n",
      "First row {'timestamp': '2022-01-11T12:00:00.000Z', 'symbol': 'SOLUSD', 'close': 135.74}\n",
      "118\n",
      "Cursor 3000\n",
      "\n",
      "{'api-expires': '1703407775', 'api-signature': '93ea983358c17337765afd649e96b6026fdc3b324bf4da61c0168980d37e2c24', 'api-key': 'HM_OVkhTCygs5BcVk2NY6aIi'}\n",
      "{'symbol': 'SOLUSD', 'count': 1000, 'start': 3000, 'binSize': '1h', 'columns': 'close,timestamp'}\n",
      "First row {'timestamp': '2022-02-22T04:00:00.000Z', 'symbol': 'SOLUSD', 'close': 81.76}\n",
      "118\n",
      "Cursor 4000\n",
      "\n",
      "{'api-expires': '1703407775', 'api-signature': '8dd56050f2d91d0cb9a8efd41c6308303ead73424837d4708a443c27874f5786', 'api-key': 'HM_OVkhTCygs5BcVk2NY6aIi'}\n",
      "{'symbol': 'SOLUSD', 'count': 1000, 'start': 4000, 'binSize': '1h', 'columns': 'close,timestamp'}\n",
      "First row {'timestamp': '2022-04-04T20:00:00.000Z', 'symbol': 'SOLUSD', 'close': 130.07}\n",
      "118\n",
      "Cursor 5000\n",
      "\n",
      "{'api-expires': '1703407775', 'api-signature': '29aca686d0911b4f70a6af97cd2a239e1d17bb5c55cd511bca8dbdb446d434b9', 'api-key': 'HM_OVkhTCygs5BcVk2NY6aIi'}\n",
      "{'symbol': 'SOLUSD', 'count': 1000, 'start': 5000, 'binSize': '1h', 'columns': 'close,timestamp'}\n",
      "First row {'timestamp': '2022-05-16T12:00:00.000Z', 'symbol': 'SOLUSD', 'close': 53.79}\n",
      "117\n",
      "Cursor 6000\n",
      "\n",
      "{'api-expires': '1703407776', 'api-signature': 'e3bcbc79196fb6ae446095d023d3eeb7bf2f20a21f70911dfda2205ceb117fde', 'api-key': 'HM_OVkhTCygs5BcVk2NY6aIi'}\n",
      "{'symbol': 'SOLUSD', 'count': 1000, 'start': 6000, 'binSize': '1h', 'columns': 'close,timestamp'}\n",
      "First row {'symbol': 'SOLUSD', 'timestamp': '2022-06-27T04:00:00.000Z', 'close': 40.17}\n",
      "117\n",
      "Cursor 7000\n",
      "\n",
      "{'api-expires': '1703407776', 'api-signature': '02fc3ec81ab1da3f8c57ef1b4e5a503ea431153dda80369ff6f44a1ae560942d', 'api-key': 'HM_OVkhTCygs5BcVk2NY6aIi'}\n",
      "{'symbol': 'SOLUSD', 'count': 1000, 'start': 7000, 'binSize': '1h', 'columns': 'close,timestamp'}\n",
      "First row {'symbol': 'SOLUSD', 'timestamp': '2022-08-07T20:00:00.000Z', 'close': 40.6}\n",
      "117\n",
      "Cursor 8000\n",
      "\n",
      "{'api-expires': '1703407777', 'api-signature': '8350305cbe415aafdc74d42159b35daf6296a6e5019436df7e43d50b15850606', 'api-key': 'HM_OVkhTCygs5BcVk2NY6aIi'}\n",
      "{'symbol': 'SOLUSD', 'count': 1000, 'start': 8000, 'binSize': '1h', 'columns': 'close,timestamp'}\n",
      "First row {'timestamp': '2022-09-18T12:00:00.000Z', 'symbol': 'SOLUSD', 'close': 33.33}\n",
      "118\n",
      "Cursor 9000\n",
      "\n",
      "{'api-expires': '1703407778', 'api-signature': '173c088e9caf7edff3d1a9d08bd6e541e449b32fc1230d26ed2920eaa757d005', 'api-key': 'HM_OVkhTCygs5BcVk2NY6aIi'}\n",
      "{'symbol': 'SOLUSD', 'count': 1000, 'start': 9000, 'binSize': '1h', 'columns': 'close,timestamp'}\n",
      "First row {'symbol': 'SOLUSD', 'timestamp': '2022-10-30T04:00:00.000Z', 'close': 33.02}\n",
      "117\n",
      "Cursor 10000\n",
      "\n",
      "{'api-expires': '1703407778', 'api-signature': '6f331d05bde832883a7a63228ebf73f34bbd0db4324e743f1070f569d92203c3', 'api-key': 'HM_OVkhTCygs5BcVk2NY6aIi'}\n",
      "{'symbol': 'SOLUSD', 'count': 1000, 'start': 10000, 'binSize': '1h', 'columns': 'close,timestamp'}\n",
      "First row {'timestamp': '2022-12-10T20:00:00.000Z', 'symbol': 'SOLUSD', 'close': 13.66}\n",
      "117\n",
      "Cursor 11000\n",
      "\n",
      "{'api-expires': '1703407778', 'api-signature': '7a79b53933e50c7f8488141cfb5b155aaa8567a6d0c9afd091d8802d114f01ba', 'api-key': 'HM_OVkhTCygs5BcVk2NY6aIi'}\n",
      "{'symbol': 'SOLUSD', 'count': 1000, 'start': 11000, 'binSize': '1h', 'columns': 'close,timestamp'}\n",
      "First row {'timestamp': '2023-01-21T12:00:00.000Z', 'symbol': 'SOLUSD', 'close': 25.17}\n",
      "117\n",
      "Cursor 12000\n",
      "\n",
      "{'api-expires': '1703407779', 'api-signature': '884e577367338a49942a5907731631196b9545606d6ba77e655b7790a99f51bb', 'api-key': 'HM_OVkhTCygs5BcVk2NY6aIi'}\n",
      "{'symbol': 'SOLUSD', 'count': 1000, 'start': 12000, 'binSize': '1h', 'columns': 'close,timestamp'}\n",
      "First row {'timestamp': '2023-03-04T04:00:00.000Z', 'symbol': 'SOLUSD', 'close': 21.35}\n",
      "117\n",
      "Cursor 13000\n",
      "\n",
      "{'api-expires': '1703407779', 'api-signature': '67219d05db1df19f259f165bf72f7ab99314723f479ad71e7a11cf3f20264d04', 'api-key': 'HM_OVkhTCygs5BcVk2NY6aIi'}\n",
      "{'symbol': 'SOLUSD', 'count': 1000, 'start': 13000, 'binSize': '1h', 'columns': 'close,timestamp'}\n",
      "First row {'symbol': 'SOLUSD', 'timestamp': '2023-04-14T20:00:00.000Z', 'close': 24.56}\n",
      "116\n",
      "Cursor 14000\n",
      "\n",
      "{'api-expires': '1703407780', 'api-signature': '6a852b1b5ca274542aa9564b035cd7c9214a3f5e65e09067a75f55de9247619f', 'api-key': 'HM_OVkhTCygs5BcVk2NY6aIi'}\n",
      "{'symbol': 'SOLUSD', 'count': 1000, 'start': 14000, 'binSize': '1h', 'columns': 'close,timestamp'}\n",
      "First row {'timestamp': '2023-05-26T12:00:00.000Z', 'symbol': 'SOLUSD', 'close': 19.32}\n",
      "118\n",
      "Cursor 15000\n",
      "\n",
      "{'api-expires': '1703407781', 'api-signature': 'f28f44aaa9984ca4fca43ec25570e474f08d5fa9aeb1ff2929deb23a236101f9', 'api-key': 'HM_OVkhTCygs5BcVk2NY6aIi'}\n",
      "{'symbol': 'SOLUSD', 'count': 1000, 'start': 15000, 'binSize': '1h', 'columns': 'close,timestamp'}\n",
      "First row {'symbol': 'SOLUSD', 'timestamp': '2023-07-07T04:00:00.000Z', 'close': 20.2}\n",
      "117\n",
      "Cursor 16000\n",
      "\n",
      "{'api-expires': '1703407781', 'api-signature': 'd1794e312eb4f39f90971201b5638caa532bbe44644f2f39ac84eb081e589c26', 'api-key': 'HM_OVkhTCygs5BcVk2NY6aIi'}\n",
      "{'symbol': 'SOLUSD', 'count': 1000, 'start': 16000, 'binSize': '1h', 'columns': 'close,timestamp'}\n",
      "First row {'symbol': 'SOLUSD', 'timestamp': '2023-08-17T20:00:00.000Z', 'close': 23.12}\n",
      "117\n",
      "Cursor 17000\n",
      "\n",
      "{'api-expires': '1703407782', 'api-signature': '72d3ccc042a78f3307b4b43e589a4ae95a78f863bd87f6c182ef8448d457c6ae', 'api-key': 'HM_OVkhTCygs5BcVk2NY6aIi'}\n",
      "{'symbol': 'SOLUSD', 'count': 1000, 'start': 17000, 'binSize': '1h', 'columns': 'close,timestamp'}\n",
      "First row {'symbol': 'SOLUSD', 'timestamp': '2023-09-28T12:00:00.000Z', 'close': 19.18}\n",
      "117\n",
      "Cursor 18000\n",
      "\n",
      "{'api-expires': '1703407782', 'api-signature': 'fa79fcb46c2ac3e38311b7ad1edae51e7181afdd53ab42a65187241bed0ba855', 'api-key': 'HM_OVkhTCygs5BcVk2NY6aIi'}\n",
      "{'symbol': 'SOLUSD', 'count': 1000, 'start': 18000, 'binSize': '1h', 'columns': 'close,timestamp'}\n",
      "First row {'timestamp': '2023-11-09T04:00:00.000Z', 'symbol': 'SOLUSD', 'close': 44.11}\n",
      "119\n",
      "Cursor 19000\n",
      "\n",
      "{'api-expires': '1703407784', 'api-signature': '188ba7e3c1c58c15231cabe0daee7cc7ed9bd1dbc522fef8a5f23ae3947025d6', 'api-key': 'HM_OVkhTCygs5BcVk2NY6aIi'}\n",
      "{'symbol': 'SOLUSD', 'count': 1000, 'start': 19000, 'binSize': '1h', 'columns': 'close,timestamp'}\n",
      "First row {'timestamp': '2023-12-20T20:00:00.000Z', 'symbol': 'SOLUSD', 'close': 81.21}\n",
      "119\n",
      "Cursor 20000\n",
      "\n",
      "{'api-expires': '1703407784', 'api-signature': '0a0e541d97880c1db45d149582ed44d3f2128f29b3752aeb70c6849b069a0aa7', 'api-key': 'HM_OVkhTCygs5BcVk2NY6aIi'}\n",
      "{'symbol': 'SOLUSD', 'count': 1000, 'start': 20000, 'binSize': '1h', 'columns': 'close,timestamp'}\n",
      "Finished\n"
     ]
    },
    {
     "data": {
      "text/plain": "               domain  price_sol  price_usd\n0             sol1000     0.1940  22.216880\n1             declubs     0.1989  22.778028\n2              abuali     0.1990  22.789480\n3      designersdeity     0.1990  22.789480\n4            nosepass     0.2000  22.904000\n5               h00ts     0.2010  23.018520\n6        philipmignon     0.2090  23.934680\n7          y00tsclubs     0.2100  24.049200\n8          deez-y00ts     0.2100  24.049200\n9              adibou     0.2100  24.049200\n10        cliffrogers     0.2100  24.049200\n11              33480     0.2200  25.194400\n12              99696     0.2200  25.194400\n13             fidacu     0.2200  25.194400\n14              33154     0.2200  25.194400\n15            tolygpt     0.2299  26.328148\n16  elixirmarketplace     0.2299  26.328148\n17             ivonco     0.2299  26.328148\n18             cspire     0.2299  26.328148\n19           xn--729h     0.2299  26.328148",
      "text/html": "<div>\n<style scoped>\n    .dataframe tbody tr th:only-of-type {\n        vertical-align: middle;\n    }\n\n    .dataframe tbody tr th {\n        vertical-align: top;\n    }\n\n    .dataframe thead th {\n        text-align: right;\n    }\n</style>\n<table border=\"1\" class=\"dataframe\">\n  <thead>\n    <tr style=\"text-align: right;\">\n      <th></th>\n      <th>domain</th>\n      <th>price_sol</th>\n      <th>price_usd</th>\n    </tr>\n  </thead>\n  <tbody>\n    <tr>\n      <th>0</th>\n      <td>sol1000</td>\n      <td>0.1940</td>\n      <td>22.216880</td>\n    </tr>\n    <tr>\n      <th>1</th>\n      <td>declubs</td>\n      <td>0.1989</td>\n      <td>22.778028</td>\n    </tr>\n    <tr>\n      <th>2</th>\n      <td>abuali</td>\n      <td>0.1990</td>\n      <td>22.789480</td>\n    </tr>\n    <tr>\n      <th>3</th>\n      <td>designersdeity</td>\n      <td>0.1990</td>\n      <td>22.789480</td>\n    </tr>\n    <tr>\n      <th>4</th>\n      <td>nosepass</td>\n      <td>0.2000</td>\n      <td>22.904000</td>\n    </tr>\n    <tr>\n      <th>5</th>\n      <td>h00ts</td>\n      <td>0.2010</td>\n      <td>23.018520</td>\n    </tr>\n    <tr>\n      <th>6</th>\n      <td>philipmignon</td>\n      <td>0.2090</td>\n      <td>23.934680</td>\n    </tr>\n    <tr>\n      <th>7</th>\n      <td>y00tsclubs</td>\n      <td>0.2100</td>\n      <td>24.049200</td>\n    </tr>\n    <tr>\n      <th>8</th>\n      <td>deez-y00ts</td>\n      <td>0.2100</td>\n      <td>24.049200</td>\n    </tr>\n    <tr>\n      <th>9</th>\n      <td>adibou</td>\n      <td>0.2100</td>\n      <td>24.049200</td>\n    </tr>\n    <tr>\n      <th>10</th>\n      <td>cliffrogers</td>\n      <td>0.2100</td>\n      <td>24.049200</td>\n    </tr>\n    <tr>\n      <th>11</th>\n      <td>33480</td>\n      <td>0.2200</td>\n      <td>25.194400</td>\n    </tr>\n    <tr>\n      <th>12</th>\n      <td>99696</td>\n      <td>0.2200</td>\n      <td>25.194400</td>\n    </tr>\n    <tr>\n      <th>13</th>\n      <td>fidacu</td>\n      <td>0.2200</td>\n      <td>25.194400</td>\n    </tr>\n    <tr>\n      <th>14</th>\n      <td>33154</td>\n      <td>0.2200</td>\n      <td>25.194400</td>\n    </tr>\n    <tr>\n      <th>15</th>\n      <td>tolygpt</td>\n      <td>0.2299</td>\n      <td>26.328148</td>\n    </tr>\n    <tr>\n      <th>16</th>\n      <td>elixirmarketplace</td>\n      <td>0.2299</td>\n      <td>26.328148</td>\n    </tr>\n    <tr>\n      <th>17</th>\n      <td>ivonco</td>\n      <td>0.2299</td>\n      <td>26.328148</td>\n    </tr>\n    <tr>\n      <th>18</th>\n      <td>cspire</td>\n      <td>0.2299</td>\n      <td>26.328148</td>\n    </tr>\n    <tr>\n      <th>19</th>\n      <td>xn--729h</td>\n      <td>0.2299</td>\n      <td>26.328148</td>\n    </tr>\n  </tbody>\n</table>\n</div>"
     },
     "execution_count": 14,
     "metadata": {},
     "output_type": "execute_result"
    }
   ],
   "source": [
    "sns_cleaning(df_sns_listings_raw)"
   ],
   "metadata": {
    "collapsed": false
   }
  },
  {
   "cell_type": "markdown",
   "source": [
    "## SNS and ENS fetching"
   ],
   "metadata": {
    "collapsed": false
   }
  },
  {
   "cell_type": "code",
   "execution_count": 89,
   "outputs": [
    {
     "name": "stdout",
     "output_type": "stream",
     "text": [
      "0.2299\n",
      "76419.24828\n",
      "0.25\n",
      "0.29\n"
     ]
    },
    {
     "ename": "KeyboardInterrupt",
     "evalue": "",
     "output_type": "error",
     "traceback": [
      "\u001B[0;31m---------------------------------------------------------------------------\u001B[0m",
      "\u001B[0;31mKeyboardInterrupt\u001B[0m                         Traceback (most recent call last)",
      "Cell \u001B[0;32mIn[89], line 8\u001B[0m\n\u001B[1;32m      7\u001B[0m future2 \u001B[38;5;241m=\u001B[39m executor\u001B[38;5;241m.\u001B[39msubmit(get_all_sns_listings)\n\u001B[0;32m----> 8\u001B[0m df_ens_sales_raw \u001B[38;5;241m=\u001B[39m \u001B[43mfuture1\u001B[49m\u001B[38;5;241;43m.\u001B[39;49m\u001B[43mresult\u001B[49m\u001B[43m(\u001B[49m\u001B[43m)\u001B[49m  \u001B[38;5;66;03m# This will wait for the thread to finish and return its result\u001B[39;00m\n\u001B[1;32m      9\u001B[0m df_sns_listings_raw \u001B[38;5;241m=\u001B[39m future2\u001B[38;5;241m.\u001B[39mresult()  \u001B[38;5;66;03m# This will wait for the thread to finish and return its result\u001B[39;00m\n",
      "File \u001B[0;32m/opt/homebrew/Caskroom/miniconda/base/envs/EthSolDomains/lib/python3.10/concurrent/futures/_base.py:453\u001B[0m, in \u001B[0;36mFuture.result\u001B[0;34m(self, timeout)\u001B[0m\n\u001B[1;32m    451\u001B[0m     \u001B[38;5;28;01mreturn\u001B[39;00m \u001B[38;5;28mself\u001B[39m\u001B[38;5;241m.\u001B[39m__get_result()\n\u001B[0;32m--> 453\u001B[0m \u001B[38;5;28;43mself\u001B[39;49m\u001B[38;5;241;43m.\u001B[39;49m\u001B[43m_condition\u001B[49m\u001B[38;5;241;43m.\u001B[39;49m\u001B[43mwait\u001B[49m\u001B[43m(\u001B[49m\u001B[43mtimeout\u001B[49m\u001B[43m)\u001B[49m\n\u001B[1;32m    455\u001B[0m \u001B[38;5;28;01mif\u001B[39;00m \u001B[38;5;28mself\u001B[39m\u001B[38;5;241m.\u001B[39m_state \u001B[38;5;129;01min\u001B[39;00m [CANCELLED, CANCELLED_AND_NOTIFIED]:\n",
      "File \u001B[0;32m/opt/homebrew/Caskroom/miniconda/base/envs/EthSolDomains/lib/python3.10/threading.py:320\u001B[0m, in \u001B[0;36mCondition.wait\u001B[0;34m(self, timeout)\u001B[0m\n\u001B[1;32m    319\u001B[0m \u001B[38;5;28;01mif\u001B[39;00m timeout \u001B[38;5;129;01mis\u001B[39;00m \u001B[38;5;28;01mNone\u001B[39;00m:\n\u001B[0;32m--> 320\u001B[0m     \u001B[43mwaiter\u001B[49m\u001B[38;5;241;43m.\u001B[39;49m\u001B[43macquire\u001B[49m\u001B[43m(\u001B[49m\u001B[43m)\u001B[49m\n\u001B[1;32m    321\u001B[0m     gotit \u001B[38;5;241m=\u001B[39m \u001B[38;5;28;01mTrue\u001B[39;00m\n",
      "\u001B[0;31mKeyboardInterrupt\u001B[0m: ",
      "\nDuring handling of the above exception, another exception occurred:\n",
      "\u001B[0;31mKeyboardInterrupt\u001B[0m                         Traceback (most recent call last)",
      "Cell \u001B[0;32mIn[89], line 5\u001B[0m\n\u001B[1;32m      2\u001B[0m \u001B[38;5;66;03m# Run ETH fetching and SNS fetching concurrently\u001B[39;00m\n\u001B[1;32m      3\u001B[0m \u001B[38;5;28;01mimport\u001B[39;00m \u001B[38;5;21;01mthreading\u001B[39;00m\n\u001B[0;32m----> 5\u001B[0m \u001B[38;5;28;01mwith\u001B[39;00m ThreadPoolExecutor() \u001B[38;5;28;01mas\u001B[39;00m executor:\n\u001B[1;32m      6\u001B[0m     future1 \u001B[38;5;241m=\u001B[39m executor\u001B[38;5;241m.\u001B[39msubmit(get_all_ens_sales,datetime(\u001B[38;5;241m2022\u001B[39m, \u001B[38;5;241m5\u001B[39m, \u001B[38;5;241m1\u001B[39m), datetime(\u001B[38;5;241m2023\u001B[39m, \u001B[38;5;241m12\u001B[39m, \u001B[38;5;241m23\u001B[39m))\n\u001B[1;32m      7\u001B[0m     future2 \u001B[38;5;241m=\u001B[39m executor\u001B[38;5;241m.\u001B[39msubmit(get_all_sns_listings)\n",
      "File \u001B[0;32m/opt/homebrew/Caskroom/miniconda/base/envs/EthSolDomains/lib/python3.10/concurrent/futures/_base.py:649\u001B[0m, in \u001B[0;36mExecutor.__exit__\u001B[0;34m(self, exc_type, exc_val, exc_tb)\u001B[0m\n\u001B[1;32m    648\u001B[0m \u001B[38;5;28;01mdef\u001B[39;00m \u001B[38;5;21m__exit__\u001B[39m(\u001B[38;5;28mself\u001B[39m, exc_type, exc_val, exc_tb):\n\u001B[0;32m--> 649\u001B[0m     \u001B[38;5;28;43mself\u001B[39;49m\u001B[38;5;241;43m.\u001B[39;49m\u001B[43mshutdown\u001B[49m\u001B[43m(\u001B[49m\u001B[43mwait\u001B[49m\u001B[38;5;241;43m=\u001B[39;49m\u001B[38;5;28;43;01mTrue\u001B[39;49;00m\u001B[43m)\u001B[49m\n\u001B[1;32m    650\u001B[0m     \u001B[38;5;28;01mreturn\u001B[39;00m \u001B[38;5;28;01mFalse\u001B[39;00m\n",
      "File \u001B[0;32m/opt/homebrew/Caskroom/miniconda/base/envs/EthSolDomains/lib/python3.10/concurrent/futures/thread.py:235\u001B[0m, in \u001B[0;36mThreadPoolExecutor.shutdown\u001B[0;34m(self, wait, cancel_futures)\u001B[0m\n\u001B[1;32m    233\u001B[0m \u001B[38;5;28;01mif\u001B[39;00m wait:\n\u001B[1;32m    234\u001B[0m     \u001B[38;5;28;01mfor\u001B[39;00m t \u001B[38;5;129;01min\u001B[39;00m \u001B[38;5;28mself\u001B[39m\u001B[38;5;241m.\u001B[39m_threads:\n\u001B[0;32m--> 235\u001B[0m         \u001B[43mt\u001B[49m\u001B[38;5;241;43m.\u001B[39;49m\u001B[43mjoin\u001B[49m\u001B[43m(\u001B[49m\u001B[43m)\u001B[49m\n",
      "File \u001B[0;32m/opt/homebrew/Caskroom/miniconda/base/envs/EthSolDomains/lib/python3.10/threading.py:1096\u001B[0m, in \u001B[0;36mThread.join\u001B[0;34m(self, timeout)\u001B[0m\n\u001B[1;32m   1093\u001B[0m     \u001B[38;5;28;01mraise\u001B[39;00m \u001B[38;5;167;01mRuntimeError\u001B[39;00m(\u001B[38;5;124m\"\u001B[39m\u001B[38;5;124mcannot join current thread\u001B[39m\u001B[38;5;124m\"\u001B[39m)\n\u001B[1;32m   1095\u001B[0m \u001B[38;5;28;01mif\u001B[39;00m timeout \u001B[38;5;129;01mis\u001B[39;00m \u001B[38;5;28;01mNone\u001B[39;00m:\n\u001B[0;32m-> 1096\u001B[0m     \u001B[38;5;28;43mself\u001B[39;49m\u001B[38;5;241;43m.\u001B[39;49m\u001B[43m_wait_for_tstate_lock\u001B[49m\u001B[43m(\u001B[49m\u001B[43m)\u001B[49m\n\u001B[1;32m   1097\u001B[0m \u001B[38;5;28;01melse\u001B[39;00m:\n\u001B[1;32m   1098\u001B[0m     \u001B[38;5;66;03m# the behavior of a negative timeout isn't documented, but\u001B[39;00m\n\u001B[1;32m   1099\u001B[0m     \u001B[38;5;66;03m# historically .join(timeout=x) for x<0 has acted as if timeout=0\u001B[39;00m\n\u001B[1;32m   1100\u001B[0m     \u001B[38;5;28mself\u001B[39m\u001B[38;5;241m.\u001B[39m_wait_for_tstate_lock(timeout\u001B[38;5;241m=\u001B[39m\u001B[38;5;28mmax\u001B[39m(timeout, \u001B[38;5;241m0\u001B[39m))\n",
      "File \u001B[0;32m/opt/homebrew/Caskroom/miniconda/base/envs/EthSolDomains/lib/python3.10/threading.py:1116\u001B[0m, in \u001B[0;36mThread._wait_for_tstate_lock\u001B[0;34m(self, block, timeout)\u001B[0m\n\u001B[1;32m   1113\u001B[0m     \u001B[38;5;28;01mreturn\u001B[39;00m\n\u001B[1;32m   1115\u001B[0m \u001B[38;5;28;01mtry\u001B[39;00m:\n\u001B[0;32m-> 1116\u001B[0m     \u001B[38;5;28;01mif\u001B[39;00m \u001B[43mlock\u001B[49m\u001B[38;5;241;43m.\u001B[39;49m\u001B[43macquire\u001B[49m\u001B[43m(\u001B[49m\u001B[43mblock\u001B[49m\u001B[43m,\u001B[49m\u001B[43m \u001B[49m\u001B[43mtimeout\u001B[49m\u001B[43m)\u001B[49m:\n\u001B[1;32m   1117\u001B[0m         lock\u001B[38;5;241m.\u001B[39mrelease()\n\u001B[1;32m   1118\u001B[0m         \u001B[38;5;28mself\u001B[39m\u001B[38;5;241m.\u001B[39m_stop()\n",
      "\u001B[0;31mKeyboardInterrupt\u001B[0m: "
     ]
    }
   ],
   "source": [
    "from concurrent.futures import ThreadPoolExecutor\n",
    "# Run ETH fetching and SNS fetching concurrently\n",
    "import threading\n",
    "\n",
    "with ThreadPoolExecutor() as executor:\n",
    "    future1 = executor.submit(get_all_ens_sales,datetime(2022, 5, 1), datetime(2023, 12, 23))\n",
    "    future2 = executor.submit(get_all_sns_listings)\n",
    "    df_ens_sales_raw = future1.result()  # This will wait for the thread to finish and return its result\n",
    "    df_sns_listings_raw = future2.result()  # This will wait for the thread to finish and return its result"
   ],
   "metadata": {
    "collapsed": false
   }
  },
  {
   "cell_type": "markdown",
   "source": [
    "## SNS and ENS df cleaning, computation and merging"
   ],
   "metadata": {
    "collapsed": false
   }
  },
  {
   "cell_type": "code",
   "execution_count": 120,
   "outputs": [
    {
     "name": "stdout",
     "output_type": "stream",
     "text": [
      "\n",
      "{'api-expires': '1703442773', 'api-signature': '591f35cbc7c51f8caaf802c35c8e4a02cf756544946641d06cee5ee79d72a91a', 'api-key': 'HM_OVkhTCygs5BcVk2NY6aIi'}\n",
      "{'symbol': 'SOLUSD', 'count': 1000, 'start': 0, 'binSize': '1h', 'columns': 'close,timestamp'}\n",
      "First row {'timestamp': '2021-10-20T04:00:00.000Z', 'symbol': 'SOLUSD'}\n",
      "119\n",
      "Cursor 1000\n",
      "\n",
      "{'api-expires': '1703442775', 'api-signature': '52ae9ce8e620fdbe5f861f313adaab789f138ed712872476b5019e76cff02b21', 'api-key': 'HM_OVkhTCygs5BcVk2NY6aIi'}\n",
      "{'symbol': 'SOLUSD', 'count': 1000, 'start': 1000, 'binSize': '1h', 'columns': 'close,timestamp'}\n",
      "First row {'timestamp': '2021-11-30T20:00:00.000Z', 'symbol': 'SOLUSD', 'close': 215.45}\n",
      "118\n",
      "Cursor 2000\n",
      "\n",
      "{'api-expires': '1703442775', 'api-signature': '65e13c7687cc01de77ffaf4dae24cf874e7e522b4f432030c1b6e1e4b9ab13dc', 'api-key': 'HM_OVkhTCygs5BcVk2NY6aIi'}\n",
      "{'symbol': 'SOLUSD', 'count': 1000, 'start': 2000, 'binSize': '1h', 'columns': 'close,timestamp'}\n",
      "First row {'timestamp': '2022-01-11T12:00:00.000Z', 'symbol': 'SOLUSD', 'close': 135.74}\n",
      "118\n",
      "Cursor 3000\n",
      "\n",
      "{'api-expires': '1703442775', 'api-signature': '90b7fde92e9231390caca4e3ba6373e3f0b8b4561d31d780a1646d42b08b4268', 'api-key': 'HM_OVkhTCygs5BcVk2NY6aIi'}\n",
      "{'symbol': 'SOLUSD', 'count': 1000, 'start': 3000, 'binSize': '1h', 'columns': 'close,timestamp'}\n",
      "First row {'symbol': 'SOLUSD', 'timestamp': '2022-02-22T04:00:00.000Z', 'close': 81.76}\n",
      "117\n",
      "Cursor 4000\n",
      "\n",
      "{'api-expires': '1703442775', 'api-signature': '6765e6c69e18f54ad8f762aef4865b56e4e6bacf4cc06dcf50ef97532f978329', 'api-key': 'HM_OVkhTCygs5BcVk2NY6aIi'}\n",
      "{'symbol': 'SOLUSD', 'count': 1000, 'start': 4000, 'binSize': '1h', 'columns': 'close,timestamp'}\n",
      "First row {'symbol': 'SOLUSD', 'timestamp': '2022-04-04T20:00:00.000Z', 'close': 130.07}\n",
      "119\n",
      "Cursor 5000\n",
      "\n",
      "{'api-expires': '1703442777', 'api-signature': 'cd5f507c5ca5c601fec3c54365bc70d573193111ff32f12233c9aebe9bc37905', 'api-key': 'HM_OVkhTCygs5BcVk2NY6aIi'}\n",
      "{'symbol': 'SOLUSD', 'count': 1000, 'start': 5000, 'binSize': '1h', 'columns': 'close,timestamp'}\n",
      "First row {'timestamp': '2022-05-16T12:00:00.000Z', 'symbol': 'SOLUSD', 'close': 53.79}\n",
      "118\n",
      "Cursor 6000\n",
      "\n",
      "{'api-expires': '1703442777', 'api-signature': '8f9a72cc1964b71f9076e935b6b9d5bc731123e8beed5a656f4e21c33f9019e0', 'api-key': 'HM_OVkhTCygs5BcVk2NY6aIi'}\n",
      "{'symbol': 'SOLUSD', 'count': 1000, 'start': 6000, 'binSize': '1h', 'columns': 'close,timestamp'}\n",
      "First row {'symbol': 'SOLUSD', 'timestamp': '2022-06-27T04:00:00.000Z', 'close': 40.17}\n",
      "118\n",
      "Cursor 7000\n",
      "\n",
      "{'api-expires': '1703442777', 'api-signature': '44b9b63878f56ea8dd58e724cb592009f25dd0d00986f421fac6c6a43cd76a72', 'api-key': 'HM_OVkhTCygs5BcVk2NY6aIi'}\n",
      "{'symbol': 'SOLUSD', 'count': 1000, 'start': 7000, 'binSize': '1h', 'columns': 'close,timestamp'}\n",
      "First row {'symbol': 'SOLUSD', 'timestamp': '2022-08-07T20:00:00.000Z', 'close': 40.6}\n",
      "118\n",
      "Cursor 8000\n",
      "\n",
      "{'api-expires': '1703442778', 'api-signature': 'f5d34ef6123015b9fd8280d7f8face6eab526bd75cba70c6d4e2086bcbbd9f21', 'api-key': 'HM_OVkhTCygs5BcVk2NY6aIi'}\n",
      "{'symbol': 'SOLUSD', 'count': 1000, 'start': 8000, 'binSize': '1h', 'columns': 'close,timestamp'}\n",
      "First row {'timestamp': '2022-09-18T12:00:00.000Z', 'symbol': 'SOLUSD', 'close': 33.33}\n",
      "117\n",
      "Cursor 9000\n",
      "\n",
      "{'api-expires': '1703442778', 'api-signature': '6a6026fbd0cac4dff289626c5c130aef125d923f941f901b71c17eee9bb9f31e', 'api-key': 'HM_OVkhTCygs5BcVk2NY6aIi'}\n",
      "{'symbol': 'SOLUSD', 'count': 1000, 'start': 9000, 'binSize': '1h', 'columns': 'close,timestamp'}\n",
      "First row {'symbol': 'SOLUSD', 'timestamp': '2022-10-30T04:00:00.000Z', 'close': 33.02}\n",
      "118\n",
      "Cursor 10000\n",
      "\n",
      "{'api-expires': '1703442779', 'api-signature': '3555fb6095c35631e76a177a5cefa20c3595e433ba646ffdfe77249a7a511a00', 'api-key': 'HM_OVkhTCygs5BcVk2NY6aIi'}\n",
      "{'symbol': 'SOLUSD', 'count': 1000, 'start': 10000, 'binSize': '1h', 'columns': 'close,timestamp'}\n",
      "First row {'timestamp': '2022-12-10T20:00:00.000Z', 'symbol': 'SOLUSD', 'close': 13.66}\n",
      "119\n",
      "Cursor 11000\n",
      "\n",
      "{'api-expires': '1703442780', 'api-signature': '3b6da3f740383a66d564927587e7c036c9c10bc43b60b824e4a8ce537503ca99', 'api-key': 'HM_OVkhTCygs5BcVk2NY6aIi'}\n",
      "{'symbol': 'SOLUSD', 'count': 1000, 'start': 11000, 'binSize': '1h', 'columns': 'close,timestamp'}\n",
      "First row {'symbol': 'SOLUSD', 'timestamp': '2023-01-21T12:00:00.000Z', 'close': 25.17}\n",
      "118\n",
      "Cursor 12000\n",
      "\n",
      "{'api-expires': '1703442780', 'api-signature': 'd20e7b02b0fdfee59f83e60d8af9d7dcb0848e2db002a031477b9c3476318d43', 'api-key': 'HM_OVkhTCygs5BcVk2NY6aIi'}\n",
      "{'symbol': 'SOLUSD', 'count': 1000, 'start': 12000, 'binSize': '1h', 'columns': 'close,timestamp'}\n",
      "First row {'symbol': 'SOLUSD', 'timestamp': '2023-03-04T04:00:00.000Z', 'close': 21.35}\n",
      "118\n",
      "Cursor 13000\n",
      "\n",
      "{'api-expires': '1703442780', 'api-signature': '2c8fb7315b2743388817364f8d7b09e75a9c3c4d8fc27f3dc16d3ccfe0e7b820', 'api-key': 'HM_OVkhTCygs5BcVk2NY6aIi'}\n",
      "{'symbol': 'SOLUSD', 'count': 1000, 'start': 13000, 'binSize': '1h', 'columns': 'close,timestamp'}\n",
      "First row {'symbol': 'SOLUSD', 'timestamp': '2023-04-14T20:00:00.000Z', 'close': 24.56}\n",
      "119\n",
      "Cursor 14000\n",
      "\n",
      "{'api-expires': '1703442782', 'api-signature': '435ae609c07ab8c468fa8d71a4176d46d48c078c13f74dabb62894aa756e1077', 'api-key': 'HM_OVkhTCygs5BcVk2NY6aIi'}\n",
      "{'symbol': 'SOLUSD', 'count': 1000, 'start': 14000, 'binSize': '1h', 'columns': 'close,timestamp'}\n",
      "First row {'symbol': 'SOLUSD', 'timestamp': '2023-05-26T12:00:00.000Z', 'close': 19.32}\n",
      "119\n",
      "Cursor 15000\n",
      "\n",
      "{'api-expires': '1703442782', 'api-signature': '68e9902d5744f57c21a7b8eb952c9ccd986f839626f1d7c510426b8c94913e9d', 'api-key': 'HM_OVkhTCygs5BcVk2NY6aIi'}\n",
      "{'symbol': 'SOLUSD', 'count': 1000, 'start': 15000, 'binSize': '1h', 'columns': 'close,timestamp'}\n",
      "First row {'symbol': 'SOLUSD', 'timestamp': '2023-07-07T04:00:00.000Z', 'close': 20.2}\n",
      "119\n",
      "Cursor 16000\n",
      "\n",
      "{'api-expires': '1703442784', 'api-signature': 'f55057915d81b6b5013ac12a4e5b38b7a6c1469387be6367070af1af18b5b917', 'api-key': 'HM_OVkhTCygs5BcVk2NY6aIi'}\n",
      "{'symbol': 'SOLUSD', 'count': 1000, 'start': 16000, 'binSize': '1h', 'columns': 'close,timestamp'}\n",
      "First row {'timestamp': '2023-08-17T20:00:00.000Z', 'symbol': 'SOLUSD', 'close': 23.12}\n",
      "119\n",
      "Cursor 17000\n",
      "\n",
      "{'api-expires': '1703442784', 'api-signature': '4158c079984b6df7dff8a363a63513d07ecc35fac077d074c6b13ef4edfb7243', 'api-key': 'HM_OVkhTCygs5BcVk2NY6aIi'}\n",
      "{'symbol': 'SOLUSD', 'count': 1000, 'start': 17000, 'binSize': '1h', 'columns': 'close,timestamp'}\n",
      "First row {'timestamp': '2023-09-28T12:00:00.000Z', 'symbol': 'SOLUSD', 'close': 19.18}\n",
      "118\n",
      "Cursor 18000\n",
      "\n",
      "{'api-expires': '1703442784', 'api-signature': '3f94595f50480c14f4f744e19065862181704f1e5a06c29929faf59727d95d84', 'api-key': 'HM_OVkhTCygs5BcVk2NY6aIi'}\n",
      "{'symbol': 'SOLUSD', 'count': 1000, 'start': 18000, 'binSize': '1h', 'columns': 'close,timestamp'}\n",
      "First row {'timestamp': '2023-11-09T04:00:00.000Z', 'symbol': 'SOLUSD', 'close': 44.11}\n",
      "118\n",
      "Cursor 19000\n",
      "\n",
      "{'api-expires': '1703442785', 'api-signature': '3e3db3486b6360922ccf9414fe101fbdfd4c5a416570f1752f81fd1f6adcfe61', 'api-key': 'HM_OVkhTCygs5BcVk2NY6aIi'}\n",
      "{'symbol': 'SOLUSD', 'count': 1000, 'start': 19000, 'binSize': '1h', 'columns': 'close,timestamp'}\n",
      "First row {'timestamp': '2023-12-20T20:00:00.000Z', 'symbol': 'SOLUSD', 'close': 81.21}\n",
      "118\n",
      "Cursor 20000\n",
      "\n",
      "{'api-expires': '1703442785', 'api-signature': '656a96214d59887ce3958c5252280cef1e2fb3f906656a05457621a7700dd316', 'api-key': 'HM_OVkhTCygs5BcVk2NY6aIi'}\n",
      "{'symbol': 'SOLUSD', 'count': 1000, 'start': 20000, 'binSize': '1h', 'columns': 'close,timestamp'}\n",
      "Finished\n"
     ]
    },
    {
     "data": {
      "text/plain": "              domain  avg_price_usd  nb_sales   timestamp  \\\n0                000  320562.450900         1  1656872054   \n1              porno  210410.170620         1  1656509031   \n2              03jul  260989.689056         7  1653086759   \n3     sapdeutschland  179939.419940         1  1673820875   \n4        ensmaxisnft  160720.573960         1  1658936856   \n...              ...            ...       ...         ...   \n7019            7046    1105.144370         1  1656154960   \n7020            5874    1285.213250         1  1678633823   \n7021            5473    1285.213250         1  1678633823   \n7022            8990    1613.291120         1  1654792951   \n7023          ८९९.et     966.071980         1  1656932941   \n\n                                                 txHash  fillSource  \\\n0     0x659f6961fb48db842f061250f6ac28e858e11b211d46...  opensea.io   \n1     0x64e33539108a54f905d0a082575bdc197a34bbdd59a1...  opensea.io   \n2     0x8f0bf710aee447fb089187a4774c3cba4743f5ed032b...     x2y2.io   \n3     0xd71af68474266518c216f7405623648d7eb6604e1cf1...  opensea.io   \n4     0x7ff93b57a6c774aa6b3f5c3d640b7eb06c67b23a4b5b...     x2y2.io   \n...                                                 ...         ...   \n7019  0x2b73fc861f0efccbbfa63e7eadbf212052ad57142d0e...  opensea.io   \n7020  0x96b78dcc14c844efd5b0097b3a774bb89ecdcdf35a67...  opensea.io   \n7021  0x96b78dcc14c844efd5b0097b3a774bb89ecdcdf35a67...  opensea.io   \n7022  0x646be57ba00d0d0c3fa28be09325a13b9e54d765f94d...  opensea.io   \n7023  0x8667d7d47c239cb5d226c198f3118cb146a6c76329a3...  opensea.io   \n\n         orderKind  price_sol  price_usd  \n0      wyvern-v2.3     2000.0   229240.0  \n1      wyvern-v2.3        NaN        NaN  \n2             x2y2        NaN        NaN  \n3          seaport        NaN        NaN  \n4             x2y2        NaN        NaN  \n...            ...        ...        ...  \n7019       seaport        NaN        NaN  \n7020  seaport-v1.4        NaN        NaN  \n7021  seaport-v1.4        NaN        NaN  \n7022   wyvern-v2.3        NaN        NaN  \n7023       seaport        NaN        NaN  \n\n[7024 rows x 9 columns]",
      "text/html": "<div>\n<style scoped>\n    .dataframe tbody tr th:only-of-type {\n        vertical-align: middle;\n    }\n\n    .dataframe tbody tr th {\n        vertical-align: top;\n    }\n\n    .dataframe thead th {\n        text-align: right;\n    }\n</style>\n<table border=\"1\" class=\"dataframe\">\n  <thead>\n    <tr style=\"text-align: right;\">\n      <th></th>\n      <th>domain</th>\n      <th>avg_price_usd</th>\n      <th>nb_sales</th>\n      <th>timestamp</th>\n      <th>txHash</th>\n      <th>fillSource</th>\n      <th>orderKind</th>\n      <th>price_sol</th>\n      <th>price_usd</th>\n    </tr>\n  </thead>\n  <tbody>\n    <tr>\n      <th>0</th>\n      <td>000</td>\n      <td>320562.450900</td>\n      <td>1</td>\n      <td>1656872054</td>\n      <td>0x659f6961fb48db842f061250f6ac28e858e11b211d46...</td>\n      <td>opensea.io</td>\n      <td>wyvern-v2.3</td>\n      <td>2000.0</td>\n      <td>229240.0</td>\n    </tr>\n    <tr>\n      <th>1</th>\n      <td>porno</td>\n      <td>210410.170620</td>\n      <td>1</td>\n      <td>1656509031</td>\n      <td>0x64e33539108a54f905d0a082575bdc197a34bbdd59a1...</td>\n      <td>opensea.io</td>\n      <td>wyvern-v2.3</td>\n      <td>NaN</td>\n      <td>NaN</td>\n    </tr>\n    <tr>\n      <th>2</th>\n      <td>03jul</td>\n      <td>260989.689056</td>\n      <td>7</td>\n      <td>1653086759</td>\n      <td>0x8f0bf710aee447fb089187a4774c3cba4743f5ed032b...</td>\n      <td>x2y2.io</td>\n      <td>x2y2</td>\n      <td>NaN</td>\n      <td>NaN</td>\n    </tr>\n    <tr>\n      <th>3</th>\n      <td>sapdeutschland</td>\n      <td>179939.419940</td>\n      <td>1</td>\n      <td>1673820875</td>\n      <td>0xd71af68474266518c216f7405623648d7eb6604e1cf1...</td>\n      <td>opensea.io</td>\n      <td>seaport</td>\n      <td>NaN</td>\n      <td>NaN</td>\n    </tr>\n    <tr>\n      <th>4</th>\n      <td>ensmaxisnft</td>\n      <td>160720.573960</td>\n      <td>1</td>\n      <td>1658936856</td>\n      <td>0x7ff93b57a6c774aa6b3f5c3d640b7eb06c67b23a4b5b...</td>\n      <td>x2y2.io</td>\n      <td>x2y2</td>\n      <td>NaN</td>\n      <td>NaN</td>\n    </tr>\n    <tr>\n      <th>...</th>\n      <td>...</td>\n      <td>...</td>\n      <td>...</td>\n      <td>...</td>\n      <td>...</td>\n      <td>...</td>\n      <td>...</td>\n      <td>...</td>\n      <td>...</td>\n    </tr>\n    <tr>\n      <th>7019</th>\n      <td>7046</td>\n      <td>1105.144370</td>\n      <td>1</td>\n      <td>1656154960</td>\n      <td>0x2b73fc861f0efccbbfa63e7eadbf212052ad57142d0e...</td>\n      <td>opensea.io</td>\n      <td>seaport</td>\n      <td>NaN</td>\n      <td>NaN</td>\n    </tr>\n    <tr>\n      <th>7020</th>\n      <td>5874</td>\n      <td>1285.213250</td>\n      <td>1</td>\n      <td>1678633823</td>\n      <td>0x96b78dcc14c844efd5b0097b3a774bb89ecdcdf35a67...</td>\n      <td>opensea.io</td>\n      <td>seaport-v1.4</td>\n      <td>NaN</td>\n      <td>NaN</td>\n    </tr>\n    <tr>\n      <th>7021</th>\n      <td>5473</td>\n      <td>1285.213250</td>\n      <td>1</td>\n      <td>1678633823</td>\n      <td>0x96b78dcc14c844efd5b0097b3a774bb89ecdcdf35a67...</td>\n      <td>opensea.io</td>\n      <td>seaport-v1.4</td>\n      <td>NaN</td>\n      <td>NaN</td>\n    </tr>\n    <tr>\n      <th>7022</th>\n      <td>8990</td>\n      <td>1613.291120</td>\n      <td>1</td>\n      <td>1654792951</td>\n      <td>0x646be57ba00d0d0c3fa28be09325a13b9e54d765f94d...</td>\n      <td>opensea.io</td>\n      <td>wyvern-v2.3</td>\n      <td>NaN</td>\n      <td>NaN</td>\n    </tr>\n    <tr>\n      <th>7023</th>\n      <td>८९९.et</td>\n      <td>966.071980</td>\n      <td>1</td>\n      <td>1656932941</td>\n      <td>0x8667d7d47c239cb5d226c198f3118cb146a6c76329a3...</td>\n      <td>opensea.io</td>\n      <td>seaport</td>\n      <td>NaN</td>\n      <td>NaN</td>\n    </tr>\n  </tbody>\n</table>\n<p>7024 rows × 9 columns</p>\n</div>"
     },
     "execution_count": 120,
     "metadata": {},
     "output_type": "execute_result"
    }
   ],
   "source": [
    "df_sns_listings = sns_cleaning(df_sns_listings_raw)\n",
    "df_ens_sales = ens_cleaning(df_ens_sales_raw)\n",
    "\n",
    "df_sales = df_ens_sales.merge(df_sns_listings,how='left', on='domain')\n",
    "df_sales"
   ],
   "metadata": {
    "collapsed": false
   }
  },
  {
   "cell_type": "markdown",
   "source": [
    "## Get registrability of domains on Bonfida\n",
    "We only try to get registrability for ENS domains sold between 10k and 1k.\n",
    "Which is a bad idea as we don't really reduce the search domain but only the opportunities above 10k"
   ],
   "metadata": {
    "collapsed": false
   }
  },
  {
   "cell_type": "code",
   "execution_count": 102,
   "outputs": [
    {
     "data": {
      "text/plain": "         domain  avg_price_usd  nb_sales   timestamp  \\\n0           000  320562.450900         1  1656872054   \n27          010   71585.463400         1  1668196679   \n51         meme   80450.510540         1  1688673323   \n79          653   23499.248310         3  1663848359   \n82          917   50384.351105         2  1663077111   \n...         ...            ...       ...         ...   \n6973    talents    1206.031290         1  1664087591   \n6975  louboutin    1660.494310         1  1655268880   \n6976        fil    1569.884070         1  1696265495   \n7001       dubs    1467.760370         1  1674511859   \n7010      00899    1470.703030         1  1662697812   \n\n                                                 txHash   fillSource  \\\n0     0x659f6961fb48db842f061250f6ac28e858e11b211d46...   opensea.io   \n27    0xcca57b1decf340424230c9ba1ca96fd444943fa9de08...      x2y2.io   \n51    0xc4447efea74c79afbd571cb0ca47fd47f3f81873e014...   opensea.io   \n79    0x9baff7f29c90eca02c2ad996cfa32010e49998a66047...   ens.vision   \n82    0x5c89ca1c2b31d8270b5f9e5aeae044e4ad0a3de864d2...   ens.vision   \n...                                                 ...          ...   \n6973  0x3dd1a3679a9b29a4124c1118c19983a50ba11bb0668a...  ens.domains   \n6975  0xfdb9256b109caffef7f3e8718fabe096ba058d54d89d...  ens.domains   \n6976  0x387214320ffc35d644ca1a04ec4ae80ae61a13b7b075...  ens.domains   \n7001  0xd798b1d971908460427bae19a6cb1290d2a3923284fe...   ens.vision   \n7010  0xf58c082a71c84f1bc419cccd5147df44320d80c0760f...   opensea.io   \n\n         orderKind  price_sol   price_usd  \n0      wyvern-v2.3     2000.0   220380.00  \n27            x2y2      149.0    16418.31  \n51    seaport-v1.5    30000.0  3305700.00  \n79         seaport       95.0    10468.05  \n82         seaport     5000.0   550950.00  \n...            ...        ...         ...  \n6973          mint       10.0     1101.90  \n6975          mint        9.0      991.71  \n6976          mint      100.0    11019.00  \n7001       seaport       29.0     3195.51  \n7010       seaport        7.0      771.33  \n\n[355 rows x 9 columns]",
      "text/html": "<div>\n<style scoped>\n    .dataframe tbody tr th:only-of-type {\n        vertical-align: middle;\n    }\n\n    .dataframe tbody tr th {\n        vertical-align: top;\n    }\n\n    .dataframe thead th {\n        text-align: right;\n    }\n</style>\n<table border=\"1\" class=\"dataframe\">\n  <thead>\n    <tr style=\"text-align: right;\">\n      <th></th>\n      <th>domain</th>\n      <th>avg_price_usd</th>\n      <th>nb_sales</th>\n      <th>timestamp</th>\n      <th>txHash</th>\n      <th>fillSource</th>\n      <th>orderKind</th>\n      <th>price_sol</th>\n      <th>price_usd</th>\n    </tr>\n  </thead>\n  <tbody>\n    <tr>\n      <th>0</th>\n      <td>000</td>\n      <td>320562.450900</td>\n      <td>1</td>\n      <td>1656872054</td>\n      <td>0x659f6961fb48db842f061250f6ac28e858e11b211d46...</td>\n      <td>opensea.io</td>\n      <td>wyvern-v2.3</td>\n      <td>2000.0</td>\n      <td>220380.00</td>\n    </tr>\n    <tr>\n      <th>27</th>\n      <td>010</td>\n      <td>71585.463400</td>\n      <td>1</td>\n      <td>1668196679</td>\n      <td>0xcca57b1decf340424230c9ba1ca96fd444943fa9de08...</td>\n      <td>x2y2.io</td>\n      <td>x2y2</td>\n      <td>149.0</td>\n      <td>16418.31</td>\n    </tr>\n    <tr>\n      <th>51</th>\n      <td>meme</td>\n      <td>80450.510540</td>\n      <td>1</td>\n      <td>1688673323</td>\n      <td>0xc4447efea74c79afbd571cb0ca47fd47f3f81873e014...</td>\n      <td>opensea.io</td>\n      <td>seaport-v1.5</td>\n      <td>30000.0</td>\n      <td>3305700.00</td>\n    </tr>\n    <tr>\n      <th>79</th>\n      <td>653</td>\n      <td>23499.248310</td>\n      <td>3</td>\n      <td>1663848359</td>\n      <td>0x9baff7f29c90eca02c2ad996cfa32010e49998a66047...</td>\n      <td>ens.vision</td>\n      <td>seaport</td>\n      <td>95.0</td>\n      <td>10468.05</td>\n    </tr>\n    <tr>\n      <th>82</th>\n      <td>917</td>\n      <td>50384.351105</td>\n      <td>2</td>\n      <td>1663077111</td>\n      <td>0x5c89ca1c2b31d8270b5f9e5aeae044e4ad0a3de864d2...</td>\n      <td>ens.vision</td>\n      <td>seaport</td>\n      <td>5000.0</td>\n      <td>550950.00</td>\n    </tr>\n    <tr>\n      <th>...</th>\n      <td>...</td>\n      <td>...</td>\n      <td>...</td>\n      <td>...</td>\n      <td>...</td>\n      <td>...</td>\n      <td>...</td>\n      <td>...</td>\n      <td>...</td>\n    </tr>\n    <tr>\n      <th>6973</th>\n      <td>talents</td>\n      <td>1206.031290</td>\n      <td>1</td>\n      <td>1664087591</td>\n      <td>0x3dd1a3679a9b29a4124c1118c19983a50ba11bb0668a...</td>\n      <td>ens.domains</td>\n      <td>mint</td>\n      <td>10.0</td>\n      <td>1101.90</td>\n    </tr>\n    <tr>\n      <th>6975</th>\n      <td>louboutin</td>\n      <td>1660.494310</td>\n      <td>1</td>\n      <td>1655268880</td>\n      <td>0xfdb9256b109caffef7f3e8718fabe096ba058d54d89d...</td>\n      <td>ens.domains</td>\n      <td>mint</td>\n      <td>9.0</td>\n      <td>991.71</td>\n    </tr>\n    <tr>\n      <th>6976</th>\n      <td>fil</td>\n      <td>1569.884070</td>\n      <td>1</td>\n      <td>1696265495</td>\n      <td>0x387214320ffc35d644ca1a04ec4ae80ae61a13b7b075...</td>\n      <td>ens.domains</td>\n      <td>mint</td>\n      <td>100.0</td>\n      <td>11019.00</td>\n    </tr>\n    <tr>\n      <th>7001</th>\n      <td>dubs</td>\n      <td>1467.760370</td>\n      <td>1</td>\n      <td>1674511859</td>\n      <td>0xd798b1d971908460427bae19a6cb1290d2a3923284fe...</td>\n      <td>ens.vision</td>\n      <td>seaport</td>\n      <td>29.0</td>\n      <td>3195.51</td>\n    </tr>\n    <tr>\n      <th>7010</th>\n      <td>00899</td>\n      <td>1470.703030</td>\n      <td>1</td>\n      <td>1662697812</td>\n      <td>0xf58c082a71c84f1bc419cccd5147df44320d80c0760f...</td>\n      <td>opensea.io</td>\n      <td>seaport</td>\n      <td>7.0</td>\n      <td>771.33</td>\n    </tr>\n  </tbody>\n</table>\n<p>355 rows × 9 columns</p>\n</div>"
     },
     "execution_count": 102,
     "metadata": {},
     "output_type": "execute_result"
    }
   ],
   "source": [
    "# All ENS sales matched on its unlisted counterpart on MagicEden (could be unlisted or available in the registry)\n",
    "df_unlisted_sns_domains = df_sales[df_sales['price_sol'].isna()]\n",
    "df_unlisted_sns_domains"
   ],
   "metadata": {
    "collapsed": false
   }
  },
  {
   "cell_type": "code",
   "execution_count": null,
   "outputs": [],
   "source": [
    "# Check unregistered SNS for ENS in between 10k and 1k\n",
    "df_filtered_sales = df_unlisted_sns_domains[(df_unlisted_sns_domains['avg_price_usd']>1000)]"
   ],
   "metadata": {
    "collapsed": false
   }
  },
  {
   "cell_type": "code",
   "execution_count": null,
   "outputs": [],
   "source": [
    "# Check registration for SNS\n",
    "\n",
    "# List of domains to check\n",
    "domains = df_filtered_sales['domain'].tolist()\n",
    "\n",
    "# Create a ThreadPoolExecutor\n",
    "with ThreadPoolExecutor(max_workers=3) as executor:\n",
    "    # Submit tasks to the executor\n",
    "    futures = [executor.submit(process_domain, domain) for domain in domains]\n",
    "\n",
    "    # Create an empty dictionary to store results\n",
    "    domain_status = {}\n",
    "\n",
    "    # Retrieve results as they are completed\n",
    "    for future in as_completed(futures):\n",
    "        domain, is_registered = future.result()\n",
    "        domain_status[domain] = is_registered"
   ],
   "metadata": {
    "collapsed": false
   }
  },
  {
   "cell_type": "code",
   "execution_count": null,
   "outputs": [],
   "source": [
    "# Convert the results dictionary back to a DataFrame\n",
    "df_sns_to_be_registered = pd.DataFrame(list(domain_status.items()), columns=['domain', 'is_registered'])\n",
    "\n",
    "# Filter not listed domains\n",
    "df_sns_to_be_registered"
   ],
   "metadata": {
    "collapsed": false
   }
  },
  {
   "cell_type": "code",
   "execution_count": null,
   "outputs": [],
   "source": [
    "# Merge sns registered and sales\n",
    "df_sales['is_registered']=df_sales.merge(df_sns_to_be_registered, how='left', on='domain')\n",
    "df_sales['is_registered']=df_sales.apply(lambda x: x['is_registered']==True, axis=1)\n",
    "\n",
    "# We suppose that unregistered domains cost 20$ (which is not rly true for rare domains etc..)\n",
    "df_sales['price_usd']=df_sales.apply(lambda x:x['price_usd'] if x['is_registered'] else 20, axis=1)\n",
    "df_sales"
   ],
   "metadata": {
    "collapsed": false
   }
  },
  {
   "cell_type": "markdown",
   "source": [
    "## Data management\n",
    "### Dump in Pickle"
   ],
   "metadata": {
    "collapsed": false
   }
  },
  {
   "cell_type": "code",
   "execution_count": null,
   "outputs": [],
   "source": [
    "with open('df_sales.pkl', 'wb') as f:\n",
    "    pickle.dump(df_sales, f)"
   ],
   "metadata": {
    "collapsed": false
   }
  },
  {
   "cell_type": "markdown",
   "source": [
    "### Load from disk"
   ],
   "metadata": {
    "collapsed": false
   }
  },
  {
   "cell_type": "code",
   "execution_count": null,
   "outputs": [],
   "source": [
    "with open('df_sales.pkl','rb') as file:\n",
    "    df_sales=pickle.load(file)"
   ],
   "metadata": {
    "collapsed": false
   }
  },
  {
   "cell_type": "markdown",
   "source": [
    "## Data analysis\n",
    "### Compute delta of SNS listed and avg sale price of ENS"
   ],
   "metadata": {
    "collapsed": false
   }
  },
  {
   "cell_type": "code",
   "execution_count": 108,
   "outputs": [
    {
     "data": {
      "text/plain": "          domain  avg_price_usd  nb_sales   timestamp  \\\n0            000  320562.450900         1  1656872054   \n27           010   71585.463400         1  1668196679   \n183          576   45397.557070         1  1661434473   \n356          354   46541.527980         1  1651830550   \n199          npc   42799.745075         2  1702243319   \n...          ...            ...       ...         ...   \n6293         wix    1992.747440         1  1685992943   \n4286        5608    2228.033470         2  1656430764   \n3872         gfy    2051.167860         1  1671369647   \n51          meme   80450.510540         1  1688673323   \n3495  livenation    2499.985000         0  1668370571   \n\n                                                 txHash   fillSource  \\\n0     0x659f6961fb48db842f061250f6ac28e858e11b211d46...   opensea.io   \n27    0xcca57b1decf340424230c9ba1ca96fd444943fa9de08...      x2y2.io   \n183   0xb2c5f94f7ec954da6935dcc5bbaacbabbd7c85fcf7a8...   opensea.io   \n356   0x299b6e75a896ca8dc59ab44043796693c854530ac525...   opensea.io   \n199   0x9d6d83a6db0ec688910cb34608e56564d5ee067d1376...      x2y2.io   \n...                                                 ...          ...   \n6293  0x09817e00ffe938cc5e8280c8a37b9930e0422e58f0eb...  ens.domains   \n4286  0x0856deb4d7f6314bc74802db2e42b8d510a403130ae9...   opensea.io   \n3872  0x8aaf0f350182dec086dd3186110f1442d1d207965b43...  ens.domains   \n51    0xc4447efea74c79afbd571cb0ca47fd47f3f81873e014...   opensea.io   \n3495  0xae75ce6b3562674befacd168af3bf88d5566d451ecad...   opensea.io   \n\n         orderKind  price_sol     price_usd         delta  \n0      wyvern-v2.3     2000.0  2.203800e+05  1.001825e+05  \n27            x2y2      149.0  1.641831e+04  5.516715e+04  \n183        seaport       57.6  6.346944e+03  3.905061e+04  \n356    wyvern-v2.3       99.0  1.090881e+04  3.563272e+04  \n199           x2y2       69.0  7.603110e+03  3.519664e+04  \n...            ...        ...           ...           ...  \n6293          mint     5000.0  5.509500e+05 -5.489573e+05  \n4286   wyvern-v2.3     5608.0  6.179455e+05 -6.157175e+05  \n3872          mint    15000.0  1.652850e+06 -1.650799e+06  \n51    seaport-v1.5    30000.0  3.305700e+06 -3.225249e+06  \n3495       seaport   150000.0  1.652850e+07 -1.652600e+07  \n\n[355 rows x 10 columns]",
      "text/html": "<div>\n<style scoped>\n    .dataframe tbody tr th:only-of-type {\n        vertical-align: middle;\n    }\n\n    .dataframe tbody tr th {\n        vertical-align: top;\n    }\n\n    .dataframe thead th {\n        text-align: right;\n    }\n</style>\n<table border=\"1\" class=\"dataframe\">\n  <thead>\n    <tr style=\"text-align: right;\">\n      <th></th>\n      <th>domain</th>\n      <th>avg_price_usd</th>\n      <th>nb_sales</th>\n      <th>timestamp</th>\n      <th>txHash</th>\n      <th>fillSource</th>\n      <th>orderKind</th>\n      <th>price_sol</th>\n      <th>price_usd</th>\n      <th>delta</th>\n    </tr>\n  </thead>\n  <tbody>\n    <tr>\n      <th>0</th>\n      <td>000</td>\n      <td>320562.450900</td>\n      <td>1</td>\n      <td>1656872054</td>\n      <td>0x659f6961fb48db842f061250f6ac28e858e11b211d46...</td>\n      <td>opensea.io</td>\n      <td>wyvern-v2.3</td>\n      <td>2000.0</td>\n      <td>2.203800e+05</td>\n      <td>1.001825e+05</td>\n    </tr>\n    <tr>\n      <th>27</th>\n      <td>010</td>\n      <td>71585.463400</td>\n      <td>1</td>\n      <td>1668196679</td>\n      <td>0xcca57b1decf340424230c9ba1ca96fd444943fa9de08...</td>\n      <td>x2y2.io</td>\n      <td>x2y2</td>\n      <td>149.0</td>\n      <td>1.641831e+04</td>\n      <td>5.516715e+04</td>\n    </tr>\n    <tr>\n      <th>183</th>\n      <td>576</td>\n      <td>45397.557070</td>\n      <td>1</td>\n      <td>1661434473</td>\n      <td>0xb2c5f94f7ec954da6935dcc5bbaacbabbd7c85fcf7a8...</td>\n      <td>opensea.io</td>\n      <td>seaport</td>\n      <td>57.6</td>\n      <td>6.346944e+03</td>\n      <td>3.905061e+04</td>\n    </tr>\n    <tr>\n      <th>356</th>\n      <td>354</td>\n      <td>46541.527980</td>\n      <td>1</td>\n      <td>1651830550</td>\n      <td>0x299b6e75a896ca8dc59ab44043796693c854530ac525...</td>\n      <td>opensea.io</td>\n      <td>wyvern-v2.3</td>\n      <td>99.0</td>\n      <td>1.090881e+04</td>\n      <td>3.563272e+04</td>\n    </tr>\n    <tr>\n      <th>199</th>\n      <td>npc</td>\n      <td>42799.745075</td>\n      <td>2</td>\n      <td>1702243319</td>\n      <td>0x9d6d83a6db0ec688910cb34608e56564d5ee067d1376...</td>\n      <td>x2y2.io</td>\n      <td>x2y2</td>\n      <td>69.0</td>\n      <td>7.603110e+03</td>\n      <td>3.519664e+04</td>\n    </tr>\n    <tr>\n      <th>...</th>\n      <td>...</td>\n      <td>...</td>\n      <td>...</td>\n      <td>...</td>\n      <td>...</td>\n      <td>...</td>\n      <td>...</td>\n      <td>...</td>\n      <td>...</td>\n      <td>...</td>\n    </tr>\n    <tr>\n      <th>6293</th>\n      <td>wix</td>\n      <td>1992.747440</td>\n      <td>1</td>\n      <td>1685992943</td>\n      <td>0x09817e00ffe938cc5e8280c8a37b9930e0422e58f0eb...</td>\n      <td>ens.domains</td>\n      <td>mint</td>\n      <td>5000.0</td>\n      <td>5.509500e+05</td>\n      <td>-5.489573e+05</td>\n    </tr>\n    <tr>\n      <th>4286</th>\n      <td>5608</td>\n      <td>2228.033470</td>\n      <td>2</td>\n      <td>1656430764</td>\n      <td>0x0856deb4d7f6314bc74802db2e42b8d510a403130ae9...</td>\n      <td>opensea.io</td>\n      <td>wyvern-v2.3</td>\n      <td>5608.0</td>\n      <td>6.179455e+05</td>\n      <td>-6.157175e+05</td>\n    </tr>\n    <tr>\n      <th>3872</th>\n      <td>gfy</td>\n      <td>2051.167860</td>\n      <td>1</td>\n      <td>1671369647</td>\n      <td>0x8aaf0f350182dec086dd3186110f1442d1d207965b43...</td>\n      <td>ens.domains</td>\n      <td>mint</td>\n      <td>15000.0</td>\n      <td>1.652850e+06</td>\n      <td>-1.650799e+06</td>\n    </tr>\n    <tr>\n      <th>51</th>\n      <td>meme</td>\n      <td>80450.510540</td>\n      <td>1</td>\n      <td>1688673323</td>\n      <td>0xc4447efea74c79afbd571cb0ca47fd47f3f81873e014...</td>\n      <td>opensea.io</td>\n      <td>seaport-v1.5</td>\n      <td>30000.0</td>\n      <td>3.305700e+06</td>\n      <td>-3.225249e+06</td>\n    </tr>\n    <tr>\n      <th>3495</th>\n      <td>livenation</td>\n      <td>2499.985000</td>\n      <td>0</td>\n      <td>1668370571</td>\n      <td>0xae75ce6b3562674befacd168af3bf88d5566d451ecad...</td>\n      <td>opensea.io</td>\n      <td>seaport</td>\n      <td>150000.0</td>\n      <td>1.652850e+07</td>\n      <td>-1.652600e+07</td>\n    </tr>\n  </tbody>\n</table>\n<p>355 rows × 10 columns</p>\n</div>"
     },
     "execution_count": 108,
     "metadata": {},
     "output_type": "execute_result"
    }
   ],
   "source": [
    "# Filter available domains with the max delta between ENS and SNS\n",
    "df_sales['delta'] = df_sales.apply(lambda x: x['avg_price_usd']-x['price_usd'])\n",
    "df_sales[df_sales['is_registered']].sort_values(by=['delta','price_usd'], ascending=[False,True], inplace=True)"
   ],
   "metadata": {
    "collapsed": false
   }
  },
  {
   "cell_type": "markdown",
   "source": [],
   "metadata": {
    "collapsed": false
   }
  },
  {
   "cell_type": "markdown",
   "source": [
    "### Compute delta of SNS unregistered and avg sale price of ENS, CAREFUL SNS registration price varies from the assumed 20$"
   ],
   "metadata": {
    "collapsed": false
   }
  },
  {
   "cell_type": "code",
   "execution_count": null,
   "outputs": [],
   "source": [
    "# If not registered, we assume it's a 20$ domain\n",
    "df_sales[not df_sales['is_registered']].sort_values(by=['delta','price_usd'], ascending=[False,True], inplace=True)"
   ],
   "metadata": {
    "collapsed": false
   }
  },
  {
   "cell_type": "code",
   "execution_count": null,
   "outputs": [],
   "source": [
    "###### !!! Doing a temporary merge for plane data analysis !!! ######"
   ],
   "metadata": {
    "collapsed": false
   }
  }
 ],
 "metadata": {
  "kernelspec": {
   "display_name": "Python 3",
   "language": "python",
   "name": "python3"
  },
  "language_info": {
   "codemirror_mode": {
    "name": "ipython",
    "version": 2
   },
   "file_extension": ".py",
   "mimetype": "text/x-python",
   "name": "python",
   "nbconvert_exporter": "python",
   "pygments_lexer": "ipython2",
   "version": "2.7.6"
  }
 },
 "nbformat": 4,
 "nbformat_minor": 0
}
